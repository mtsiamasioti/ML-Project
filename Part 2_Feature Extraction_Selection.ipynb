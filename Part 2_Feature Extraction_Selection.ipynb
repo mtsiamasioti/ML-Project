{
 "cells": [
  {
   "cell_type": "code",
   "execution_count": 1,
   "metadata": {
    "ExecuteTime": {
     "end_time": "2021-01-31T09:56:19.059081Z",
     "start_time": "2021-01-31T09:56:16.218109Z"
    }
   },
   "outputs": [
    {
     "data": {
      "text/html": [
       "<style>.container {width:90% !important;}</style>"
      ],
      "text/plain": [
       "<IPython.core.display.HTML object>"
      ]
     },
     "metadata": {},
     "output_type": "display_data"
    }
   ],
   "source": [
    "from IPython.core.display import display, HTML\n",
    "display(HTML(\"<style>.container {width:90% !important;}</style>\"))\n",
    "\n",
    "import numpy as np\n",
    "import pandas as pd\n",
    "import matplotlib.pyplot as plt\n",
    "import seaborn as sns\n",
    "\n",
    "%matplotlib inline\n",
    "plt.style.use('ggplot')\n",
    "sns.set_palette(\"rainbow\")"
   ]
  },
  {
   "cell_type": "code",
   "execution_count": 2,
   "metadata": {
    "ExecuteTime": {
     "end_time": "2021-01-31T09:56:19.836938Z",
     "start_time": "2021-01-31T09:56:19.062080Z"
    }
   },
   "outputs": [],
   "source": [
    "#εδώ κανω import τις μεθόδους που θα χρειαστώ\n",
    "from sklearn.model_selection import train_test_split\n",
    "from sklearn.preprocessing import StandardScaler\n",
    "from sklearn.metrics import accuracy_score\n",
    "from sklearn.feature_selection import SelectKBest\n",
    "from sklearn.feature_selection import SelectFromModel\n",
    "from sklearn.linear_model import LogisticRegression\n",
    "from sklearn.ensemble import RandomForestClassifier\n",
    "from sklearn.naive_bayes import GaussianNB\n",
    "from sklearn.neural_network import MLPClassifier"
   ]
  },
  {
   "cell_type": "code",
   "execution_count": 3,
   "metadata": {
    "ExecuteTime": {
     "end_time": "2021-01-31T09:56:20.540908Z",
     "start_time": "2021-01-31T09:56:19.840937Z"
    }
   },
   "outputs": [
    {
     "name": "stdout",
     "output_type": "stream",
     "text": [
      "Rows: 303\n",
      "Columns: 14\n",
      "age         float64\n",
      "sex         float64\n",
      "cp          float64\n",
      "trestbps    float64\n",
      "chol        float64\n",
      "fbs         float64\n",
      "restecg     float64\n",
      "thalach     float64\n",
      "exang       float64\n",
      "oldpeak     float64\n",
      "slope       float64\n",
      "ca           object\n",
      "thal         object\n",
      "target        int64\n",
      "dtype: object\n"
     ]
    },
    {
     "data": {
      "text/html": [
       "<div>\n",
       "<style scoped>\n",
       "    .dataframe tbody tr th:only-of-type {\n",
       "        vertical-align: middle;\n",
       "    }\n",
       "\n",
       "    .dataframe tbody tr th {\n",
       "        vertical-align: top;\n",
       "    }\n",
       "\n",
       "    .dataframe thead th {\n",
       "        text-align: right;\n",
       "    }\n",
       "</style>\n",
       "<table border=\"1\" class=\"dataframe\">\n",
       "  <thead>\n",
       "    <tr style=\"text-align: right;\">\n",
       "      <th></th>\n",
       "      <th>age</th>\n",
       "      <th>sex</th>\n",
       "      <th>cp</th>\n",
       "      <th>trestbps</th>\n",
       "      <th>chol</th>\n",
       "      <th>fbs</th>\n",
       "      <th>restecg</th>\n",
       "      <th>thalach</th>\n",
       "      <th>exang</th>\n",
       "      <th>oldpeak</th>\n",
       "      <th>slope</th>\n",
       "      <th>ca</th>\n",
       "      <th>thal</th>\n",
       "      <th>target</th>\n",
       "    </tr>\n",
       "  </thead>\n",
       "  <tbody>\n",
       "    <tr>\n",
       "      <th>0</th>\n",
       "      <td>63.0</td>\n",
       "      <td>1.0</td>\n",
       "      <td>1.0</td>\n",
       "      <td>145.0</td>\n",
       "      <td>233.0</td>\n",
       "      <td>1.0</td>\n",
       "      <td>2.0</td>\n",
       "      <td>150.0</td>\n",
       "      <td>0.0</td>\n",
       "      <td>2.3</td>\n",
       "      <td>3.0</td>\n",
       "      <td>0.0</td>\n",
       "      <td>6.0</td>\n",
       "      <td>0</td>\n",
       "    </tr>\n",
       "    <tr>\n",
       "      <th>1</th>\n",
       "      <td>67.0</td>\n",
       "      <td>1.0</td>\n",
       "      <td>4.0</td>\n",
       "      <td>160.0</td>\n",
       "      <td>286.0</td>\n",
       "      <td>0.0</td>\n",
       "      <td>2.0</td>\n",
       "      <td>108.0</td>\n",
       "      <td>1.0</td>\n",
       "      <td>1.5</td>\n",
       "      <td>2.0</td>\n",
       "      <td>3.0</td>\n",
       "      <td>3.0</td>\n",
       "      <td>2</td>\n",
       "    </tr>\n",
       "    <tr>\n",
       "      <th>2</th>\n",
       "      <td>67.0</td>\n",
       "      <td>1.0</td>\n",
       "      <td>4.0</td>\n",
       "      <td>120.0</td>\n",
       "      <td>229.0</td>\n",
       "      <td>0.0</td>\n",
       "      <td>2.0</td>\n",
       "      <td>129.0</td>\n",
       "      <td>1.0</td>\n",
       "      <td>2.6</td>\n",
       "      <td>2.0</td>\n",
       "      <td>2.0</td>\n",
       "      <td>7.0</td>\n",
       "      <td>1</td>\n",
       "    </tr>\n",
       "    <tr>\n",
       "      <th>3</th>\n",
       "      <td>37.0</td>\n",
       "      <td>1.0</td>\n",
       "      <td>3.0</td>\n",
       "      <td>130.0</td>\n",
       "      <td>250.0</td>\n",
       "      <td>0.0</td>\n",
       "      <td>0.0</td>\n",
       "      <td>187.0</td>\n",
       "      <td>0.0</td>\n",
       "      <td>3.5</td>\n",
       "      <td>3.0</td>\n",
       "      <td>0.0</td>\n",
       "      <td>3.0</td>\n",
       "      <td>0</td>\n",
       "    </tr>\n",
       "    <tr>\n",
       "      <th>4</th>\n",
       "      <td>41.0</td>\n",
       "      <td>0.0</td>\n",
       "      <td>2.0</td>\n",
       "      <td>130.0</td>\n",
       "      <td>204.0</td>\n",
       "      <td>0.0</td>\n",
       "      <td>2.0</td>\n",
       "      <td>172.0</td>\n",
       "      <td>0.0</td>\n",
       "      <td>1.4</td>\n",
       "      <td>1.0</td>\n",
       "      <td>0.0</td>\n",
       "      <td>3.0</td>\n",
       "      <td>0</td>\n",
       "    </tr>\n",
       "  </tbody>\n",
       "</table>\n",
       "</div>"
      ],
      "text/plain": [
       "    age  sex   cp  trestbps   chol  fbs  restecg  thalach  exang  oldpeak  \\\n",
       "0  63.0  1.0  1.0     145.0  233.0  1.0      2.0    150.0    0.0      2.3   \n",
       "1  67.0  1.0  4.0     160.0  286.0  0.0      2.0    108.0    1.0      1.5   \n",
       "2  67.0  1.0  4.0     120.0  229.0  0.0      2.0    129.0    1.0      2.6   \n",
       "3  37.0  1.0  3.0     130.0  250.0  0.0      0.0    187.0    0.0      3.5   \n",
       "4  41.0  0.0  2.0     130.0  204.0  0.0      2.0    172.0    0.0      1.4   \n",
       "\n",
       "   slope   ca thal  target  \n",
       "0    3.0  0.0  6.0       0  \n",
       "1    2.0  3.0  3.0       2  \n",
       "2    2.0  2.0  7.0       1  \n",
       "3    3.0  0.0  3.0       0  \n",
       "4    1.0  0.0  3.0       0  "
      ]
     },
     "execution_count": 3,
     "metadata": {},
     "output_type": "execute_result"
    }
   ],
   "source": [
    "data_path = 'http://archive.ics.uci.edu/ml/machine-learning-databases/heart-disease/processed.cleveland.data'\n",
    "columns = 'age,sex,cp,trestbps,chol,fbs,restecg,thalach,exang,oldpeak,slope,ca,thal,target'.split(',')\n",
    "\n",
    "heart_disease = pd.read_csv(data_path, names=columns)\n",
    "print(f'Rows: {heart_disease.shape[0]}\\nColumns: {heart_disease.shape[1]}')\n",
    "print(heart_disease.dtypes)\n",
    "heart_disease.head()"
   ]
  },
  {
   "cell_type": "markdown",
   "metadata": {
    "heading_collapsed": true
   },
   "source": [
    "# Part 1"
   ]
  },
  {
   "cell_type": "code",
   "execution_count": 4,
   "metadata": {
    "ExecuteTime": {
     "end_time": "2021-01-31T09:56:20.586879Z",
     "start_time": "2021-01-31T09:56:20.548902Z"
    },
    "cell_style": "center",
    "code_folding": [],
    "hidden": true
   },
   "outputs": [],
   "source": [
    "#Missing Values : Replace '?' with None\n",
    "for column in heart_disease.select_dtypes('object'):\n",
    "    heart_disease[column] = heart_disease[column].replace('?', np.nan).astype(float)\n",
    "\n",
    "#Fill in None with most frequent value\n",
    "heart_disease[\"ca\"] = heart_disease[\"ca\"].fillna(heart_disease['ca'].mode()[0])\n",
    "heart_disease[\"thal\"] = heart_disease[\"thal\"].fillna(heart_disease['thal'].mode()[0])\n",
    "\n",
    "#Turn object type into integers\n",
    "heart_disease['ca'] = heart_disease['ca'].astype(float).astype(int)\n",
    "heart_disease['thal'] = heart_disease['thal'].astype(float).astype(int)"
   ]
  },
  {
   "cell_type": "code",
   "execution_count": 5,
   "metadata": {
    "ExecuteTime": {
     "end_time": "2021-01-31T09:56:20.617861Z",
     "start_time": "2021-01-31T09:56:20.590876Z"
    },
    "hidden": true
   },
   "outputs": [
    {
     "data": {
      "text/plain": [
       "target\n",
       "0    164\n",
       "1    139\n",
       "dtype: int64"
      ]
     },
     "execution_count": 5,
     "metadata": {},
     "output_type": "execute_result"
    }
   ],
   "source": [
    "#Target Variable\n",
    "heart_disease['target'] = heart_disease['target'].map(lambda x:0 if x==0 else 1)\n",
    "heart_disease.groupby(\"target\").size()"
   ]
  },
  {
   "cell_type": "markdown",
   "metadata": {},
   "source": [
    "# Part 2"
   ]
  },
  {
   "cell_type": "markdown",
   "metadata": {},
   "source": [
    "## Get Dummies "
   ]
  },
  {
   "cell_type": "markdown",
   "metadata": {},
   "source": [
    "Αρχικά, θα οριστικοποιήσω το dataset μου μετατρέποντας τις κατηγορικές μεταβλητές σε dummies. (Οι binary κατηγορικές μεταβλητές είναι ήδη σε αυτή τη μορφή).  Οι κατηγορικές μεταβλητές μου είναι οι cp, restecg, slope, ca(ordinal) , thal. Για να προκύψουν και οι ονομασίες στις κολώνες, θα αντικαταστήσω τις τιμές με τις ονομασίες τους. Επειδή οι τιμές της μεταβλητής ca έχουν μια σειρά, θα την θεωρήσουμε ως μεταβλητή ordinal, και συνεπώς δεν θα χρειαστεί να την μετατρέψω."
   ]
  },
  {
   "cell_type": "code",
   "execution_count": 6,
   "metadata": {
    "ExecuteTime": {
     "end_time": "2021-01-31T09:56:20.696809Z",
     "start_time": "2021-01-31T09:56:20.622858Z"
    }
   },
   "outputs": [
    {
     "data": {
      "text/html": [
       "<div>\n",
       "<style scoped>\n",
       "    .dataframe tbody tr th:only-of-type {\n",
       "        vertical-align: middle;\n",
       "    }\n",
       "\n",
       "    .dataframe tbody tr th {\n",
       "        vertical-align: top;\n",
       "    }\n",
       "\n",
       "    .dataframe thead th {\n",
       "        text-align: right;\n",
       "    }\n",
       "</style>\n",
       "<table border=\"1\" class=\"dataframe\">\n",
       "  <thead>\n",
       "    <tr style=\"text-align: right;\">\n",
       "      <th></th>\n",
       "      <th>age</th>\n",
       "      <th>sex</th>\n",
       "      <th>cp</th>\n",
       "      <th>trestbps</th>\n",
       "      <th>chol</th>\n",
       "      <th>fbs</th>\n",
       "      <th>restecg</th>\n",
       "      <th>thalach</th>\n",
       "      <th>exang</th>\n",
       "      <th>oldpeak</th>\n",
       "      <th>slope</th>\n",
       "      <th>ca</th>\n",
       "      <th>thal</th>\n",
       "      <th>target</th>\n",
       "    </tr>\n",
       "  </thead>\n",
       "  <tbody>\n",
       "    <tr>\n",
       "      <th>0</th>\n",
       "      <td>63.0</td>\n",
       "      <td>1.0</td>\n",
       "      <td>typical</td>\n",
       "      <td>145.0</td>\n",
       "      <td>233.0</td>\n",
       "      <td>1.0</td>\n",
       "      <td>hypertrophy</td>\n",
       "      <td>150.0</td>\n",
       "      <td>0.0</td>\n",
       "      <td>2.3</td>\n",
       "      <td>down</td>\n",
       "      <td>0</td>\n",
       "      <td>fixed</td>\n",
       "      <td>0</td>\n",
       "    </tr>\n",
       "    <tr>\n",
       "      <th>1</th>\n",
       "      <td>67.0</td>\n",
       "      <td>1.0</td>\n",
       "      <td>asymptomatic</td>\n",
       "      <td>160.0</td>\n",
       "      <td>286.0</td>\n",
       "      <td>0.0</td>\n",
       "      <td>hypertrophy</td>\n",
       "      <td>108.0</td>\n",
       "      <td>1.0</td>\n",
       "      <td>1.5</td>\n",
       "      <td>flat</td>\n",
       "      <td>3</td>\n",
       "      <td>normal</td>\n",
       "      <td>1</td>\n",
       "    </tr>\n",
       "    <tr>\n",
       "      <th>2</th>\n",
       "      <td>67.0</td>\n",
       "      <td>1.0</td>\n",
       "      <td>asymptomatic</td>\n",
       "      <td>120.0</td>\n",
       "      <td>229.0</td>\n",
       "      <td>0.0</td>\n",
       "      <td>hypertrophy</td>\n",
       "      <td>129.0</td>\n",
       "      <td>1.0</td>\n",
       "      <td>2.6</td>\n",
       "      <td>flat</td>\n",
       "      <td>2</td>\n",
       "      <td>reversable</td>\n",
       "      <td>1</td>\n",
       "    </tr>\n",
       "    <tr>\n",
       "      <th>3</th>\n",
       "      <td>37.0</td>\n",
       "      <td>1.0</td>\n",
       "      <td>non anginal</td>\n",
       "      <td>130.0</td>\n",
       "      <td>250.0</td>\n",
       "      <td>0.0</td>\n",
       "      <td>normal</td>\n",
       "      <td>187.0</td>\n",
       "      <td>0.0</td>\n",
       "      <td>3.5</td>\n",
       "      <td>down</td>\n",
       "      <td>0</td>\n",
       "      <td>normal</td>\n",
       "      <td>0</td>\n",
       "    </tr>\n",
       "    <tr>\n",
       "      <th>4</th>\n",
       "      <td>41.0</td>\n",
       "      <td>0.0</td>\n",
       "      <td>atypical</td>\n",
       "      <td>130.0</td>\n",
       "      <td>204.0</td>\n",
       "      <td>0.0</td>\n",
       "      <td>hypertrophy</td>\n",
       "      <td>172.0</td>\n",
       "      <td>0.0</td>\n",
       "      <td>1.4</td>\n",
       "      <td>up</td>\n",
       "      <td>0</td>\n",
       "      <td>normal</td>\n",
       "      <td>0</td>\n",
       "    </tr>\n",
       "  </tbody>\n",
       "</table>\n",
       "</div>"
      ],
      "text/plain": [
       "    age  sex            cp  trestbps   chol  fbs      restecg  thalach  exang  \\\n",
       "0  63.0  1.0       typical     145.0  233.0  1.0  hypertrophy    150.0    0.0   \n",
       "1  67.0  1.0  asymptomatic     160.0  286.0  0.0  hypertrophy    108.0    1.0   \n",
       "2  67.0  1.0  asymptomatic     120.0  229.0  0.0  hypertrophy    129.0    1.0   \n",
       "3  37.0  1.0   non anginal     130.0  250.0  0.0       normal    187.0    0.0   \n",
       "4  41.0  0.0      atypical     130.0  204.0  0.0  hypertrophy    172.0    0.0   \n",
       "\n",
       "   oldpeak slope  ca        thal  target  \n",
       "0      2.3  down   0       fixed       0  \n",
       "1      1.5  flat   3      normal       1  \n",
       "2      2.6  flat   2  reversable       1  \n",
       "3      3.5  down   0      normal       0  \n",
       "4      1.4    up   0      normal       0  "
      ]
     },
     "execution_count": 6,
     "metadata": {},
     "output_type": "execute_result"
    }
   ],
   "source": [
    "heart_disease['cp'].replace({1: \"typical\", 2: \"atypical\", 3: \"non anginal\", 4: \"asymptomatic\"}, inplace=True)\n",
    "heart_disease['restecg'].replace({0: \"normal\", 1: \"abnormality\", 2: \"hypertrophy\"}, inplace=True)\n",
    "heart_disease['slope'].replace({1: \"up\", 2: \"flat\", 3: \"down\"}, inplace=True)\n",
    "heart_disease['thal'].replace({3: \"normal\", 6: \"fixed\", 7: \"reversable\"}, inplace=True)\n",
    "heart_disease.head()"
   ]
  },
  {
   "cell_type": "code",
   "execution_count": 7,
   "metadata": {
    "ExecuteTime": {
     "end_time": "2021-01-31T09:56:20.744780Z",
     "start_time": "2021-01-31T09:56:20.701807Z"
    }
   },
   "outputs": [
    {
     "name": "stdout",
     "output_type": "stream",
     "text": [
      "<class 'pandas.core.frame.DataFrame'>\n",
      "RangeIndex: 303 entries, 0 to 302\n",
      "Data columns (total 14 columns):\n",
      " #   Column    Non-Null Count  Dtype  \n",
      "---  ------    --------------  -----  \n",
      " 0   age       303 non-null    float64\n",
      " 1   sex       303 non-null    float64\n",
      " 2   cp        303 non-null    object \n",
      " 3   trestbps  303 non-null    float64\n",
      " 4   chol      303 non-null    float64\n",
      " 5   fbs       303 non-null    float64\n",
      " 6   restecg   303 non-null    object \n",
      " 7   thalach   303 non-null    float64\n",
      " 8   exang     303 non-null    float64\n",
      " 9   oldpeak   303 non-null    float64\n",
      " 10  slope     303 non-null    object \n",
      " 11  ca        303 non-null    int32  \n",
      " 12  thal      303 non-null    object \n",
      " 13  target    303 non-null    int64  \n",
      "dtypes: float64(8), int32(1), int64(1), object(4)\n",
      "memory usage: 32.1+ KB\n"
     ]
    }
   ],
   "source": [
    "heart_disease.info()"
   ]
  },
  {
   "cell_type": "code",
   "execution_count": 8,
   "metadata": {
    "ExecuteTime": {
     "end_time": "2021-01-31T09:56:20.790751Z",
     "start_time": "2021-01-31T09:56:20.753775Z"
    }
   },
   "outputs": [
    {
     "name": "stdout",
     "output_type": "stream",
     "text": [
      "(303, 9)\n"
     ]
    },
    {
     "data": {
      "text/html": [
       "<div>\n",
       "<style scoped>\n",
       "    .dataframe tbody tr th:only-of-type {\n",
       "        vertical-align: middle;\n",
       "    }\n",
       "\n",
       "    .dataframe tbody tr th {\n",
       "        vertical-align: top;\n",
       "    }\n",
       "\n",
       "    .dataframe thead th {\n",
       "        text-align: right;\n",
       "    }\n",
       "</style>\n",
       "<table border=\"1\" class=\"dataframe\">\n",
       "  <thead>\n",
       "    <tr style=\"text-align: right;\">\n",
       "      <th></th>\n",
       "      <th>cp_atypical</th>\n",
       "      <th>cp_non anginal</th>\n",
       "      <th>cp_typical</th>\n",
       "      <th>restecg_hypertrophy</th>\n",
       "      <th>restecg_normal</th>\n",
       "      <th>slope_flat</th>\n",
       "      <th>slope_up</th>\n",
       "      <th>thal_normal</th>\n",
       "      <th>thal_reversable</th>\n",
       "    </tr>\n",
       "  </thead>\n",
       "  <tbody>\n",
       "    <tr>\n",
       "      <th>0</th>\n",
       "      <td>0</td>\n",
       "      <td>0</td>\n",
       "      <td>1</td>\n",
       "      <td>1</td>\n",
       "      <td>0</td>\n",
       "      <td>0</td>\n",
       "      <td>0</td>\n",
       "      <td>0</td>\n",
       "      <td>0</td>\n",
       "    </tr>\n",
       "    <tr>\n",
       "      <th>1</th>\n",
       "      <td>0</td>\n",
       "      <td>0</td>\n",
       "      <td>0</td>\n",
       "      <td>1</td>\n",
       "      <td>0</td>\n",
       "      <td>1</td>\n",
       "      <td>0</td>\n",
       "      <td>1</td>\n",
       "      <td>0</td>\n",
       "    </tr>\n",
       "    <tr>\n",
       "      <th>2</th>\n",
       "      <td>0</td>\n",
       "      <td>0</td>\n",
       "      <td>0</td>\n",
       "      <td>1</td>\n",
       "      <td>0</td>\n",
       "      <td>1</td>\n",
       "      <td>0</td>\n",
       "      <td>0</td>\n",
       "      <td>1</td>\n",
       "    </tr>\n",
       "    <tr>\n",
       "      <th>3</th>\n",
       "      <td>0</td>\n",
       "      <td>1</td>\n",
       "      <td>0</td>\n",
       "      <td>0</td>\n",
       "      <td>1</td>\n",
       "      <td>0</td>\n",
       "      <td>0</td>\n",
       "      <td>1</td>\n",
       "      <td>0</td>\n",
       "    </tr>\n",
       "    <tr>\n",
       "      <th>4</th>\n",
       "      <td>1</td>\n",
       "      <td>0</td>\n",
       "      <td>0</td>\n",
       "      <td>1</td>\n",
       "      <td>0</td>\n",
       "      <td>0</td>\n",
       "      <td>1</td>\n",
       "      <td>1</td>\n",
       "      <td>0</td>\n",
       "    </tr>\n",
       "  </tbody>\n",
       "</table>\n",
       "</div>"
      ],
      "text/plain": [
       "   cp_atypical  cp_non anginal  cp_typical  restecg_hypertrophy  \\\n",
       "0            0               0           1                    1   \n",
       "1            0               0           0                    1   \n",
       "2            0               0           0                    1   \n",
       "3            0               1           0                    0   \n",
       "4            1               0           0                    1   \n",
       "\n",
       "   restecg_normal  slope_flat  slope_up  thal_normal  thal_reversable  \n",
       "0               0           0         0            0                0  \n",
       "1               0           1         0            1                0  \n",
       "2               0           1         0            0                1  \n",
       "3               1           0         0            1                0  \n",
       "4               0           0         1            1                0  "
      ]
     },
     "execution_count": 8,
     "metadata": {},
     "output_type": "execute_result"
    }
   ],
   "source": [
    "categorical = heart_disease[[\"cp\", \"restecg\", \"slope\", \"thal\"]]\n",
    "dummies = pd.get_dummies(categorical, drop_first = True)\n",
    "print(dummies.shape)\n",
    "dummies.head()"
   ]
  },
  {
   "cell_type": "code",
   "execution_count": 9,
   "metadata": {
    "ExecuteTime": {
     "end_time": "2021-01-31T09:56:20.868703Z",
     "start_time": "2021-01-31T09:56:20.799746Z"
    }
   },
   "outputs": [
    {
     "name": "stdout",
     "output_type": "stream",
     "text": [
      "(303, 19)\n"
     ]
    },
    {
     "data": {
      "text/html": [
       "<div>\n",
       "<style scoped>\n",
       "    .dataframe tbody tr th:only-of-type {\n",
       "        vertical-align: middle;\n",
       "    }\n",
       "\n",
       "    .dataframe tbody tr th {\n",
       "        vertical-align: top;\n",
       "    }\n",
       "\n",
       "    .dataframe thead th {\n",
       "        text-align: right;\n",
       "    }\n",
       "</style>\n",
       "<table border=\"1\" class=\"dataframe\">\n",
       "  <thead>\n",
       "    <tr style=\"text-align: right;\">\n",
       "      <th></th>\n",
       "      <th>age</th>\n",
       "      <th>sex</th>\n",
       "      <th>trestbps</th>\n",
       "      <th>chol</th>\n",
       "      <th>fbs</th>\n",
       "      <th>thalach</th>\n",
       "      <th>exang</th>\n",
       "      <th>oldpeak</th>\n",
       "      <th>ca</th>\n",
       "      <th>target</th>\n",
       "      <th>cp_atypical</th>\n",
       "      <th>cp_non anginal</th>\n",
       "      <th>cp_typical</th>\n",
       "      <th>restecg_hypertrophy</th>\n",
       "      <th>restecg_normal</th>\n",
       "      <th>slope_flat</th>\n",
       "      <th>slope_up</th>\n",
       "      <th>thal_normal</th>\n",
       "      <th>thal_reversable</th>\n",
       "    </tr>\n",
       "  </thead>\n",
       "  <tbody>\n",
       "    <tr>\n",
       "      <th>0</th>\n",
       "      <td>63.0</td>\n",
       "      <td>1.0</td>\n",
       "      <td>145.0</td>\n",
       "      <td>233.0</td>\n",
       "      <td>1.0</td>\n",
       "      <td>150.0</td>\n",
       "      <td>0.0</td>\n",
       "      <td>2.3</td>\n",
       "      <td>0</td>\n",
       "      <td>0</td>\n",
       "      <td>0</td>\n",
       "      <td>0</td>\n",
       "      <td>1</td>\n",
       "      <td>1</td>\n",
       "      <td>0</td>\n",
       "      <td>0</td>\n",
       "      <td>0</td>\n",
       "      <td>0</td>\n",
       "      <td>0</td>\n",
       "    </tr>\n",
       "    <tr>\n",
       "      <th>1</th>\n",
       "      <td>67.0</td>\n",
       "      <td>1.0</td>\n",
       "      <td>160.0</td>\n",
       "      <td>286.0</td>\n",
       "      <td>0.0</td>\n",
       "      <td>108.0</td>\n",
       "      <td>1.0</td>\n",
       "      <td>1.5</td>\n",
       "      <td>3</td>\n",
       "      <td>1</td>\n",
       "      <td>0</td>\n",
       "      <td>0</td>\n",
       "      <td>0</td>\n",
       "      <td>1</td>\n",
       "      <td>0</td>\n",
       "      <td>1</td>\n",
       "      <td>0</td>\n",
       "      <td>1</td>\n",
       "      <td>0</td>\n",
       "    </tr>\n",
       "    <tr>\n",
       "      <th>2</th>\n",
       "      <td>67.0</td>\n",
       "      <td>1.0</td>\n",
       "      <td>120.0</td>\n",
       "      <td>229.0</td>\n",
       "      <td>0.0</td>\n",
       "      <td>129.0</td>\n",
       "      <td>1.0</td>\n",
       "      <td>2.6</td>\n",
       "      <td>2</td>\n",
       "      <td>1</td>\n",
       "      <td>0</td>\n",
       "      <td>0</td>\n",
       "      <td>0</td>\n",
       "      <td>1</td>\n",
       "      <td>0</td>\n",
       "      <td>1</td>\n",
       "      <td>0</td>\n",
       "      <td>0</td>\n",
       "      <td>1</td>\n",
       "    </tr>\n",
       "    <tr>\n",
       "      <th>3</th>\n",
       "      <td>37.0</td>\n",
       "      <td>1.0</td>\n",
       "      <td>130.0</td>\n",
       "      <td>250.0</td>\n",
       "      <td>0.0</td>\n",
       "      <td>187.0</td>\n",
       "      <td>0.0</td>\n",
       "      <td>3.5</td>\n",
       "      <td>0</td>\n",
       "      <td>0</td>\n",
       "      <td>0</td>\n",
       "      <td>1</td>\n",
       "      <td>0</td>\n",
       "      <td>0</td>\n",
       "      <td>1</td>\n",
       "      <td>0</td>\n",
       "      <td>0</td>\n",
       "      <td>1</td>\n",
       "      <td>0</td>\n",
       "    </tr>\n",
       "    <tr>\n",
       "      <th>4</th>\n",
       "      <td>41.0</td>\n",
       "      <td>0.0</td>\n",
       "      <td>130.0</td>\n",
       "      <td>204.0</td>\n",
       "      <td>0.0</td>\n",
       "      <td>172.0</td>\n",
       "      <td>0.0</td>\n",
       "      <td>1.4</td>\n",
       "      <td>0</td>\n",
       "      <td>0</td>\n",
       "      <td>1</td>\n",
       "      <td>0</td>\n",
       "      <td>0</td>\n",
       "      <td>1</td>\n",
       "      <td>0</td>\n",
       "      <td>0</td>\n",
       "      <td>1</td>\n",
       "      <td>1</td>\n",
       "      <td>0</td>\n",
       "    </tr>\n",
       "  </tbody>\n",
       "</table>\n",
       "</div>"
      ],
      "text/plain": [
       "    age  sex  trestbps   chol  fbs  thalach  exang  oldpeak  ca  target  \\\n",
       "0  63.0  1.0     145.0  233.0  1.0    150.0    0.0      2.3   0       0   \n",
       "1  67.0  1.0     160.0  286.0  0.0    108.0    1.0      1.5   3       1   \n",
       "2  67.0  1.0     120.0  229.0  0.0    129.0    1.0      2.6   2       1   \n",
       "3  37.0  1.0     130.0  250.0  0.0    187.0    0.0      3.5   0       0   \n",
       "4  41.0  0.0     130.0  204.0  0.0    172.0    0.0      1.4   0       0   \n",
       "\n",
       "   cp_atypical  cp_non anginal  cp_typical  restecg_hypertrophy  \\\n",
       "0            0               0           1                    1   \n",
       "1            0               0           0                    1   \n",
       "2            0               0           0                    1   \n",
       "3            0               1           0                    0   \n",
       "4            1               0           0                    1   \n",
       "\n",
       "   restecg_normal  slope_flat  slope_up  thal_normal  thal_reversable  \n",
       "0               0           0         0            0                0  \n",
       "1               0           1         0            1                0  \n",
       "2               0           1         0            0                1  \n",
       "3               1           0         0            1                0  \n",
       "4               0           0         1            1                0  "
      ]
     },
     "execution_count": 9,
     "metadata": {},
     "output_type": "execute_result"
    }
   ],
   "source": [
    "heart_disease = pd.concat([heart_disease,dummies], axis=1)\n",
    "heart_disease.drop(categorical, axis=1, inplace = True)\n",
    "print(heart_disease.shape)\n",
    "heart_disease.head()"
   ]
  },
  {
   "cell_type": "markdown",
   "metadata": {},
   "source": [
    "## TrainTestSplit "
   ]
  },
  {
   "cell_type": "markdown",
   "metadata": {},
   "source": [
    "Για να προχωρήσω στο feature extraction/selection κομμάτι, θα πρέπει να διαχωρίσω τις ανεξάρτητες Χ από την εξαρτημένη Υ\n",
    "μεταβλητή (target). Θα χρησιμοποιήσω τη μέθοδο train_test_split. Με τη μέθοδο αυτή, χωρίζω επίσης τα δεδομένα σε δεδομένα\n",
    "train, που θα τα χρησιμοποιήσω για να κατασκευάσω το μοντέλο μου, και δεδομένα test, που θα τα χρησιμοποιήσω για να κάνω\n",
    "evaluate στο μοντέλο που προέκυψε."
   ]
  },
  {
   "cell_type": "code",
   "execution_count": 10,
   "metadata": {
    "ExecuteTime": {
     "end_time": "2021-01-31T09:56:20.884693Z",
     "start_time": "2021-01-31T09:56:20.873700Z"
    }
   },
   "outputs": [],
   "source": [
    "X = heart_disease.drop('target',axis=1)\n",
    "y = heart_disease['target']"
   ]
  },
  {
   "cell_type": "code",
   "execution_count": 11,
   "metadata": {
    "ExecuteTime": {
     "end_time": "2021-01-31T09:56:20.915676Z",
     "start_time": "2021-01-31T09:56:20.889691Z"
    }
   },
   "outputs": [],
   "source": [
    "X_train, X_test, y_train, y_test = train_test_split(X, y, test_size=0.33, random_state=123)"
   ]
  },
  {
   "cell_type": "markdown",
   "metadata": {},
   "source": [
    "## Standardization "
   ]
  },
  {
   "cell_type": "markdown",
   "metadata": {},
   "source": [
    "Τώρα που χώρισα τα δεδομένα μου, χρειάζεται να αντιμετωπίσω την διαφορά που έχουν το range των τιμών των στηλών πέρα από τις κατηγορικές, καθώς αυτή η διαφορά θα δώσει στο μοντέλο μας ανακριβή αποτελέσματα.-- Όπως παρατηρήσαμε στο προηγούμενο κομμάτι, η κατανομή των δεδομένων κάθε στήλης φαίνεται να πλησιάζει πολύ την κανονική, και συνεπώς μπορούμε να εφαρμόσουμε τον StandardScaler--. Οι κολώνες που χρειάζονται κανονικοποίηση είναι όλες οι συνεχείς και η ordinal, προκειμένου να έρθουν στην ίδια κλίμακα.\n",
    "Αυτές είναι οι age, trestbps, chol, thalach, oldpeak και ca."
   ]
  },
  {
   "cell_type": "code",
   "execution_count": 12,
   "metadata": {
    "ExecuteTime": {
     "end_time": "2021-01-31T09:56:20.962644Z",
     "start_time": "2021-01-31T09:56:20.919672Z"
    }
   },
   "outputs": [
    {
     "name": "stderr",
     "output_type": "stream",
     "text": [
      "c:\\users\\myrto\\appdata\\local\\programs\\python\\python37\\lib\\site-packages\\pandas\\core\\indexing.py:1734: SettingWithCopyWarning: \n",
      "A value is trying to be set on a copy of a slice from a DataFrame.\n",
      "Try using .loc[row_indexer,col_indexer] = value instead\n",
      "\n",
      "See the caveats in the documentation: https://pandas.pydata.org/pandas-docs/stable/user_guide/indexing.html#returning-a-view-versus-a-copy\n",
      "  isetter(loc, value[:, i].tolist())\n",
      "c:\\users\\myrto\\appdata\\local\\programs\\python\\python37\\lib\\site-packages\\pandas\\core\\indexing.py:1734: SettingWithCopyWarning: \n",
      "A value is trying to be set on a copy of a slice from a DataFrame.\n",
      "Try using .loc[row_indexer,col_indexer] = value instead\n",
      "\n",
      "See the caveats in the documentation: https://pandas.pydata.org/pandas-docs/stable/user_guide/indexing.html#returning-a-view-versus-a-copy\n",
      "  isetter(loc, value[:, i].tolist())\n"
     ]
    }
   ],
   "source": [
    "columns = ['age', 'trestbps', 'chol', 'thalach', 'oldpeak', 'ca']\n",
    "scaler = StandardScaler()\n",
    "X_train.loc[:, columns] = scaler.fit_transform(X_train.loc[:, columns])\n",
    "X_test.loc[:, columns] = scaler.transform(X_test.loc[:, columns])"
   ]
  },
  {
   "cell_type": "code",
   "execution_count": 13,
   "metadata": {
    "ExecuteTime": {
     "end_time": "2021-01-31T09:56:21.008616Z",
     "start_time": "2021-01-31T09:56:20.966643Z"
    }
   },
   "outputs": [
    {
     "data": {
      "text/html": [
       "<div>\n",
       "<style scoped>\n",
       "    .dataframe tbody tr th:only-of-type {\n",
       "        vertical-align: middle;\n",
       "    }\n",
       "\n",
       "    .dataframe tbody tr th {\n",
       "        vertical-align: top;\n",
       "    }\n",
       "\n",
       "    .dataframe thead th {\n",
       "        text-align: right;\n",
       "    }\n",
       "</style>\n",
       "<table border=\"1\" class=\"dataframe\">\n",
       "  <thead>\n",
       "    <tr style=\"text-align: right;\">\n",
       "      <th></th>\n",
       "      <th>age</th>\n",
       "      <th>sex</th>\n",
       "      <th>trestbps</th>\n",
       "      <th>chol</th>\n",
       "      <th>fbs</th>\n",
       "      <th>thalach</th>\n",
       "      <th>exang</th>\n",
       "      <th>oldpeak</th>\n",
       "      <th>ca</th>\n",
       "      <th>cp_atypical</th>\n",
       "      <th>cp_non anginal</th>\n",
       "      <th>cp_typical</th>\n",
       "      <th>restecg_hypertrophy</th>\n",
       "      <th>restecg_normal</th>\n",
       "      <th>slope_flat</th>\n",
       "      <th>slope_up</th>\n",
       "      <th>thal_normal</th>\n",
       "      <th>thal_reversable</th>\n",
       "    </tr>\n",
       "  </thead>\n",
       "  <tbody>\n",
       "    <tr>\n",
       "      <th>248</th>\n",
       "      <td>-0.228995</td>\n",
       "      <td>1.0</td>\n",
       "      <td>-0.361192</td>\n",
       "      <td>-0.625789</td>\n",
       "      <td>0.0</td>\n",
       "      <td>0.835856</td>\n",
       "      <td>0.0</td>\n",
       "      <td>-0.104372</td>\n",
       "      <td>1.397407</td>\n",
       "      <td>0</td>\n",
       "      <td>0</td>\n",
       "      <td>0</td>\n",
       "      <td>0</td>\n",
       "      <td>1</td>\n",
       "      <td>0</td>\n",
       "      <td>1</td>\n",
       "      <td>0</td>\n",
       "      <td>1</td>\n",
       "    </tr>\n",
       "    <tr>\n",
       "      <th>37</th>\n",
       "      <td>0.335155</td>\n",
       "      <td>1.0</td>\n",
       "      <td>1.075366</td>\n",
       "      <td>0.584069</td>\n",
       "      <td>0.0</td>\n",
       "      <td>-1.786835</td>\n",
       "      <td>1.0</td>\n",
       "      <td>-0.434139</td>\n",
       "      <td>0.342858</td>\n",
       "      <td>0</td>\n",
       "      <td>0</td>\n",
       "      <td>0</td>\n",
       "      <td>1</td>\n",
       "      <td>0</td>\n",
       "      <td>1</td>\n",
       "      <td>0</td>\n",
       "      <td>0</td>\n",
       "      <td>0</td>\n",
       "    </tr>\n",
       "    <tr>\n",
       "      <th>34</th>\n",
       "      <td>-1.131635</td>\n",
       "      <td>1.0</td>\n",
       "      <td>-0.073880</td>\n",
       "      <td>-0.228804</td>\n",
       "      <td>0.0</td>\n",
       "      <td>1.351028</td>\n",
       "      <td>1.0</td>\n",
       "      <td>-0.599023</td>\n",
       "      <td>-0.711691</td>\n",
       "      <td>0</td>\n",
       "      <td>1</td>\n",
       "      <td>0</td>\n",
       "      <td>0</td>\n",
       "      <td>1</td>\n",
       "      <td>0</td>\n",
       "      <td>1</td>\n",
       "      <td>1</td>\n",
       "      <td>0</td>\n",
       "    </tr>\n",
       "    <tr>\n",
       "      <th>55</th>\n",
       "      <td>-0.003335</td>\n",
       "      <td>1.0</td>\n",
       "      <td>-0.418654</td>\n",
       "      <td>0.395029</td>\n",
       "      <td>0.0</td>\n",
       "      <td>-1.927337</td>\n",
       "      <td>1.0</td>\n",
       "      <td>0.884930</td>\n",
       "      <td>0.342858</td>\n",
       "      <td>0</td>\n",
       "      <td>0</td>\n",
       "      <td>0</td>\n",
       "      <td>1</td>\n",
       "      <td>0</td>\n",
       "      <td>1</td>\n",
       "      <td>0</td>\n",
       "      <td>0</td>\n",
       "      <td>1</td>\n",
       "    </tr>\n",
       "    <tr>\n",
       "      <th>91</th>\n",
       "      <td>0.899305</td>\n",
       "      <td>0.0</td>\n",
       "      <td>1.649989</td>\n",
       "      <td>-1.533182</td>\n",
       "      <td>0.0</td>\n",
       "      <td>-0.241321</td>\n",
       "      <td>0.0</td>\n",
       "      <td>4.182603</td>\n",
       "      <td>2.451956</td>\n",
       "      <td>0</td>\n",
       "      <td>0</td>\n",
       "      <td>0</td>\n",
       "      <td>1</td>\n",
       "      <td>0</td>\n",
       "      <td>0</td>\n",
       "      <td>0</td>\n",
       "      <td>0</td>\n",
       "      <td>1</td>\n",
       "    </tr>\n",
       "  </tbody>\n",
       "</table>\n",
       "</div>"
      ],
      "text/plain": [
       "          age  sex  trestbps      chol  fbs   thalach  exang   oldpeak  \\\n",
       "248 -0.228995  1.0 -0.361192 -0.625789  0.0  0.835856    0.0 -0.104372   \n",
       "37   0.335155  1.0  1.075366  0.584069  0.0 -1.786835    1.0 -0.434139   \n",
       "34  -1.131635  1.0 -0.073880 -0.228804  0.0  1.351028    1.0 -0.599023   \n",
       "55  -0.003335  1.0 -0.418654  0.395029  0.0 -1.927337    1.0  0.884930   \n",
       "91   0.899305  0.0  1.649989 -1.533182  0.0 -0.241321    0.0  4.182603   \n",
       "\n",
       "           ca  cp_atypical  cp_non anginal  cp_typical  restecg_hypertrophy  \\\n",
       "248  1.397407            0               0           0                    0   \n",
       "37   0.342858            0               0           0                    1   \n",
       "34  -0.711691            0               1           0                    0   \n",
       "55   0.342858            0               0           0                    1   \n",
       "91   2.451956            0               0           0                    1   \n",
       "\n",
       "     restecg_normal  slope_flat  slope_up  thal_normal  thal_reversable  \n",
       "248               1           0         1            0                1  \n",
       "37                0           1         0            0                0  \n",
       "34                1           0         1            1                0  \n",
       "55                0           1         0            0                1  \n",
       "91                0           0         0            0                1  "
      ]
     },
     "execution_count": 13,
     "metadata": {},
     "output_type": "execute_result"
    }
   ],
   "source": [
    "X_train.head()"
   ]
  },
  {
   "cell_type": "markdown",
   "metadata": {},
   "source": [
    "Χρειάζεται να επιλέξω τα γνωρίσματα που είναι πιο απαραίτητα για την πρόβλεψη του y. Θα κάνω την επιλογή αυτή χρησιμοποιώντας το SelectFromModel. Στο επόμενο κομμάτι, θα υλοποιήσω τους αλγορίθμους Logistic Regression, Random Forest και Naïve Bayes. Συνεπώς, θα πρέπει να επιλέξω τα σωστά γνωρίσματα για κάθε αλγόριθμο ξεχωριστά. Επίσης, ζητείται να δω την βελτίωση που γίνεται πριν και μετά την\n",
    "επιλογή των γνωρισμάτων. Θα υπολογίσω λοιπόν το accuracy στο αρχικό dataset, και έπειτα σε αυτό που έχει τις στήλες που επέλεξε το SelectFromModel."
   ]
  },
  {
   "cell_type": "markdown",
   "metadata": {},
   "source": [
    "## Feature Selection "
   ]
  },
  {
   "cell_type": "markdown",
   "metadata": {},
   "source": [
    "### Logistic Regression"
   ]
  },
  {
   "cell_type": "code",
   "execution_count": 14,
   "metadata": {
    "ExecuteTime": {
     "end_time": "2021-01-31T09:56:21.055586Z",
     "start_time": "2021-01-31T09:56:21.012614Z"
    }
   },
   "outputs": [
    {
     "name": "stdout",
     "output_type": "stream",
     "text": [
      "0.85\n"
     ]
    }
   ],
   "source": [
    "#Original Accuracy\n",
    "lr = LogisticRegression(random_state=123).fit(X_train, y_train)\n",
    "print(accuracy_score(y_test, lr.predict(X_test)))"
   ]
  },
  {
   "cell_type": "code",
   "execution_count": 15,
   "metadata": {
    "ExecuteTime": {
     "end_time": "2021-01-31T09:56:21.101558Z",
     "start_time": "2021-01-31T09:56:21.059585Z"
    }
   },
   "outputs": [
    {
     "name": "stdout",
     "output_type": "stream",
     "text": [
      "[False  True False False False False  True False  True  True  True  True\n",
      " False False  True False  True  True]\n",
      "Index(['sex', 'exang', 'ca', 'cp_atypical', 'cp_non anginal', 'cp_typical',\n",
      "       'slope_flat', 'thal_normal', 'thal_reversable'],\n",
      "      dtype='object')\n"
     ]
    }
   ],
   "source": [
    "#Επιλογή Στηλών\n",
    "lr_sfm = SelectFromModel(lr, prefit=False).fit(X_train, y_train)\n",
    "print(lr_sfm.get_support())\n",
    "\n",
    "#Απ'οτι φαίνεται, το SelectFromModel επέλεξε 9 στήλες - είναι αυτές\n",
    "#που έχουν True. Αυτές είναι οι: \n",
    "sel_cols_lr = X_train.columns[(lr_sfm.get_support())]\n",
    "print(sel_cols_lr)"
   ]
  },
  {
   "cell_type": "code",
   "execution_count": 16,
   "metadata": {
    "ExecuteTime": {
     "end_time": "2021-01-31T09:56:21.132541Z",
     "start_time": "2021-01-31T09:56:21.104556Z"
    }
   },
   "outputs": [
    {
     "name": "stdout",
     "output_type": "stream",
     "text": [
      "0.83\n"
     ]
    }
   ],
   "source": [
    "#New Accuracy\n",
    "lr_model = LogisticRegression(random_state=123).fit(X_train[sel_cols_lr], y_train)\n",
    "print(accuracy_score(y_test, lr_model.predict(X_test[sel_cols_lr])))"
   ]
  },
  {
   "cell_type": "markdown",
   "metadata": {},
   "source": [
    "### Random Forest"
   ]
  },
  {
   "cell_type": "code",
   "execution_count": 17,
   "metadata": {
    "ExecuteTime": {
     "end_time": "2021-01-31T09:56:21.385046Z",
     "start_time": "2021-01-31T09:56:21.135538Z"
    }
   },
   "outputs": [
    {
     "name": "stdout",
     "output_type": "stream",
     "text": [
      "0.79\n"
     ]
    }
   ],
   "source": [
    "#Original Accuracy\n",
    "rf = RandomForestClassifier(random_state=123).fit(X_train, y_train)\n",
    "print(accuracy_score(y_test, rf.predict(X_test)))"
   ]
  },
  {
   "cell_type": "code",
   "execution_count": 18,
   "metadata": {
    "ExecuteTime": {
     "end_time": "2021-01-31T09:56:21.763952Z",
     "start_time": "2021-01-31T09:56:21.388043Z"
    }
   },
   "outputs": [
    {
     "name": "stdout",
     "output_type": "stream",
     "text": [
      "[ True False  True  True False  True  True  True  True False False False\n",
      " False False False False  True  True]\n",
      "Index(['age', 'trestbps', 'chol', 'thalach', 'exang', 'oldpeak', 'ca',\n",
      "       'thal_normal', 'thal_reversable'],\n",
      "      dtype='object')\n"
     ]
    }
   ],
   "source": [
    "#Επιλογή Στηλών\n",
    "rf_sfm = SelectFromModel(rf, prefit=False).fit(X_train, y_train)\n",
    "print(rf_sfm.get_support())\n",
    "#Απ'οτι φαίνεται, το SelectFromModel επέλεξε 9 στήλες - είναι αυτές\n",
    "#που έχουν True. Αυτές είναι οι: \n",
    "sel_cols_rf = X_train.columns[(rf_sfm.get_support())]\n",
    "print(sel_cols_rf)"
   ]
  },
  {
   "cell_type": "code",
   "execution_count": 19,
   "metadata": {
    "ExecuteTime": {
     "end_time": "2021-01-31T09:56:22.077000Z",
     "start_time": "2021-01-31T09:56:21.771946Z"
    }
   },
   "outputs": [
    {
     "name": "stdout",
     "output_type": "stream",
     "text": [
      "0.75\n"
     ]
    }
   ],
   "source": [
    "#New Accuracy\n",
    "rf_model = RandomForestClassifier(random_state=123).fit(X_train[sel_cols_rf], y_train)\n",
    "print(accuracy_score(y_test, rf_model.predict(X_test[sel_cols_rf])))"
   ]
  },
  {
   "cell_type": "markdown",
   "metadata": {},
   "source": [
    "### Naive Bayes"
   ]
  },
  {
   "cell_type": "code",
   "execution_count": 20,
   "metadata": {
    "ExecuteTime": {
     "end_time": "2021-01-31T09:56:22.108983Z",
     "start_time": "2021-01-31T09:56:22.081998Z"
    }
   },
   "outputs": [
    {
     "name": "stdout",
     "output_type": "stream",
     "text": [
      "0.84\n"
     ]
    }
   ],
   "source": [
    "#Original Accuracy\n",
    "nb = GaussianNB().fit(X_train, y_train) \n",
    "print(accuracy_score(y_test, nb.predict(X_test)))"
   ]
  },
  {
   "cell_type": "markdown",
   "metadata": {},
   "source": [
    "KBest"
   ]
  },
  {
   "cell_type": "code",
   "execution_count": 21,
   "metadata": {
    "ExecuteTime": {
     "end_time": "2021-01-31T09:56:22.140546Z",
     "start_time": "2021-01-31T09:56:22.112979Z"
    }
   },
   "outputs": [
    {
     "name": "stdout",
     "output_type": "stream",
     "text": [
      "[False False False False False  True  True  True  True False  True False\n",
      " False False  True  True  True  True]\n",
      "Index(['thalach', 'exang', 'oldpeak', 'ca', 'cp_non anginal', 'slope_flat',\n",
      "       'slope_up', 'thal_normal', 'thal_reversable'],\n",
      "      dtype='object')\n"
     ]
    }
   ],
   "source": [
    "#Επιλογή Στηλών : To kbest δεν λαμβάνει υπ'οψιν το μοντέλο που θα εφαρμόσουμε στα δεδομένα μας. Επομένως, θα εφαρμόσουμε τις στήλες που \n",
    "#θα επιλέξει στο μοντέλο NaiveBayes αλλά και στο MLP. \n",
    "kbest = SelectKBest(k=9).fit(X_train, y_train)\n",
    "print(kbest.get_support())\n",
    "#Απ'οτι φαίνεται, το SelectKBest επέλεξε 9 στήλες - είναι αυτές\n",
    "#που έχουν True. Αυτές είναι οι: \n",
    "sel_cols_kbest = X_train.columns[(kbest.get_support())]\n",
    "print(sel_cols_kbest)"
   ]
  },
  {
   "cell_type": "code",
   "execution_count": 22,
   "metadata": {
    "ExecuteTime": {
     "end_time": "2021-01-31T09:56:22.171525Z",
     "start_time": "2021-01-31T09:56:22.142542Z"
    }
   },
   "outputs": [
    {
     "name": "stdout",
     "output_type": "stream",
     "text": [
      "0.8\n"
     ]
    }
   ],
   "source": [
    "#New Accuracy\n",
    "nb_model = GaussianNB().fit(X_train[sel_cols_kbest], y_train)\n",
    "print(accuracy_score(y_test, nb_model.predict(X_test[sel_cols_kbest])))"
   ]
  },
  {
   "cell_type": "code",
   "execution_count": 23,
   "metadata": {
    "ExecuteTime": {
     "end_time": "2021-01-31T09:56:22.202415Z",
     "start_time": "2021-01-31T09:56:22.185516Z"
    }
   },
   "outputs": [],
   "source": [
    "#save results\n",
    "import pickle\n",
    "with open('part2_results/part2.pkl', 'wb') as h:\n",
    "    pickle.dump([X_train, X_test, y_train, y_test, sel_cols_lr, sel_cols_rf, sel_cols_kbest], h)"
   ]
  },
  {
   "cell_type": "markdown",
   "metadata": {},
   "source": [
    "-----------------------------"
   ]
  },
  {
   "cell_type": "markdown",
   "metadata": {
    "heading_collapsed": true
   },
   "source": [
    "### MLP"
   ]
  },
  {
   "cell_type": "code",
   "execution_count": 24,
   "metadata": {
    "ExecuteTime": {
     "end_time": "2021-01-31T09:56:22.865944Z",
     "start_time": "2021-01-31T09:56:22.212405Z"
    },
    "hidden": true
   },
   "outputs": [
    {
     "name": "stdout",
     "output_type": "stream",
     "text": [
      "0.85\n"
     ]
    },
    {
     "name": "stderr",
     "output_type": "stream",
     "text": [
      "c:\\users\\myrto\\appdata\\local\\programs\\python\\python37\\lib\\site-packages\\sklearn\\neural_network\\_multilayer_perceptron.py:585: ConvergenceWarning: Stochastic Optimizer: Maximum iterations (200) reached and the optimization hasn't converged yet.\n",
      "  % self.max_iter, ConvergenceWarning)\n"
     ]
    }
   ],
   "source": [
    "#Old Accuracy\n",
    "mlp = MLPClassifier(random_state=123).fit(X_train, y_train)\n",
    "print(accuracy_score(y_test, mlp.predict(X_test)))"
   ]
  },
  {
   "cell_type": "code",
   "execution_count": 25,
   "metadata": {
    "ExecuteTime": {
     "end_time": "2021-01-31T09:56:23.384523Z",
     "start_time": "2021-01-31T09:56:22.869941Z"
    },
    "hidden": true
   },
   "outputs": [
    {
     "name": "stdout",
     "output_type": "stream",
     "text": [
      "0.82\n"
     ]
    },
    {
     "name": "stderr",
     "output_type": "stream",
     "text": [
      "c:\\users\\myrto\\appdata\\local\\programs\\python\\python37\\lib\\site-packages\\sklearn\\neural_network\\_multilayer_perceptron.py:585: ConvergenceWarning: Stochastic Optimizer: Maximum iterations (200) reached and the optimization hasn't converged yet.\n",
      "  % self.max_iter, ConvergenceWarning)\n"
     ]
    }
   ],
   "source": [
    "#New Accuracy\n",
    "mlp_model = MLPClassifier(random_state=123).fit(X_train[sel_cols_kbest], y_train)\n",
    "print(accuracy_score(y_test, mlp_model.predict(X_test[sel_cols_kbest])))"
   ]
  }
 ],
 "metadata": {
  "kernelspec": {
   "display_name": "Python 3",
   "language": "python",
   "name": "python3"
  },
  "language_info": {
   "codemirror_mode": {
    "name": "ipython",
    "version": 3
   },
   "file_extension": ".py",
   "mimetype": "text/x-python",
   "name": "python",
   "nbconvert_exporter": "python",
   "pygments_lexer": "ipython3",
   "version": "3.7.9"
  },
  "varInspector": {
   "cols": {
    "lenName": 16,
    "lenType": 16,
    "lenVar": 40
   },
   "kernels_config": {
    "python": {
     "delete_cmd_postfix": "",
     "delete_cmd_prefix": "del ",
     "library": "var_list.py",
     "varRefreshCmd": "print(var_dic_list())"
    },
    "r": {
     "delete_cmd_postfix": ") ",
     "delete_cmd_prefix": "rm(",
     "library": "var_list.r",
     "varRefreshCmd": "cat(var_dic_list()) "
    }
   },
   "position": {
    "height": "256px",
    "left": "996px",
    "right": "20px",
    "top": "120px",
    "width": "350px"
   },
   "types_to_exclude": [
    "module",
    "function",
    "builtin_function_or_method",
    "instance",
    "_Feature"
   ],
   "window_display": false
  }
 },
 "nbformat": 4,
 "nbformat_minor": 4
}
