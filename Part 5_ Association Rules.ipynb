{
 "cells": [
  {
   "cell_type": "markdown",
   "metadata": {},
   "source": [
    "5η υπο-εργασία (association rule mining): Να εξάγετε κανόνες συσχέτισης απ’ τα δεδομένα σας, χρησιμοποιώντας τον αλγόριθμο Apriori με το confidence ως μετρική. Αναγνωρίστε τις περιπτώσεις με τα υψηλότερα confidences και σχολιάστε τ’ αποτελέσματά σας."
   ]
  },
  {
   "cell_type": "code",
   "execution_count": 1,
   "metadata": {
    "ExecuteTime": {
     "end_time": "2021-01-31T09:51:46.979174Z",
     "start_time": "2021-01-31T09:51:44.188156Z"
    }
   },
   "outputs": [
    {
     "data": {
      "text/html": [
       "<style>.container {width:90% !important;}</style>"
      ],
      "text/plain": [
       "<IPython.core.display.HTML object>"
      ]
     },
     "metadata": {},
     "output_type": "display_data"
    }
   ],
   "source": [
    "from IPython.core.display import display, HTML\n",
    "display(HTML(\"<style>.container {width:90% !important;}</style>\"))\n",
    "\n",
    "import numpy as np\n",
    "import pandas as pd\n",
    "import matplotlib.pyplot as plt\n",
    "import seaborn as sns\n",
    "\n",
    "%matplotlib inline\n",
    "plt.style.use('ggplot')\n",
    "sns.set_palette(\"rainbow\")"
   ]
  },
  {
   "cell_type": "code",
   "execution_count": 2,
   "metadata": {
    "ExecuteTime": {
     "end_time": "2021-01-31T09:51:47.466507Z",
     "start_time": "2021-01-31T09:51:46.982174Z"
    }
   },
   "outputs": [],
   "source": [
    "from sklearn.preprocessing import StandardScaler\n",
    "from sklearn.preprocessing import LabelEncoder\n",
    "\n",
    "from mlxtend.preprocessing import TransactionEncoder\n",
    "from mlxtend.frequent_patterns import apriori\n",
    "from mlxtend.frequent_patterns import association_rules"
   ]
  },
  {
   "cell_type": "code",
   "execution_count": 3,
   "metadata": {
    "ExecuteTime": {
     "end_time": "2021-01-31T09:51:47.530469Z",
     "start_time": "2021-01-31T09:51:47.471504Z"
    },
    "scrolled": true
   },
   "outputs": [
    {
     "name": "stdout",
     "output_type": "stream",
     "text": [
      "Rows: 303\n",
      "Columns: 14\n",
      "age         float64\n",
      "sex         float64\n",
      "cp          float64\n",
      "trestbps    float64\n",
      "chol        float64\n",
      "fbs         float64\n",
      "restecg     float64\n",
      "thalach     float64\n",
      "exang       float64\n",
      "oldpeak     float64\n",
      "slope       float64\n",
      "ca           object\n",
      "thal         object\n",
      "target        int64\n",
      "dtype: object\n"
     ]
    },
    {
     "data": {
      "text/html": [
       "<div>\n",
       "<style scoped>\n",
       "    .dataframe tbody tr th:only-of-type {\n",
       "        vertical-align: middle;\n",
       "    }\n",
       "\n",
       "    .dataframe tbody tr th {\n",
       "        vertical-align: top;\n",
       "    }\n",
       "\n",
       "    .dataframe thead th {\n",
       "        text-align: right;\n",
       "    }\n",
       "</style>\n",
       "<table border=\"1\" class=\"dataframe\">\n",
       "  <thead>\n",
       "    <tr style=\"text-align: right;\">\n",
       "      <th></th>\n",
       "      <th>age</th>\n",
       "      <th>sex</th>\n",
       "      <th>cp</th>\n",
       "      <th>trestbps</th>\n",
       "      <th>chol</th>\n",
       "      <th>fbs</th>\n",
       "      <th>restecg</th>\n",
       "      <th>thalach</th>\n",
       "      <th>exang</th>\n",
       "      <th>oldpeak</th>\n",
       "      <th>slope</th>\n",
       "      <th>ca</th>\n",
       "      <th>thal</th>\n",
       "      <th>target</th>\n",
       "    </tr>\n",
       "  </thead>\n",
       "  <tbody>\n",
       "    <tr>\n",
       "      <th>0</th>\n",
       "      <td>63.0</td>\n",
       "      <td>1.0</td>\n",
       "      <td>1.0</td>\n",
       "      <td>145.0</td>\n",
       "      <td>233.0</td>\n",
       "      <td>1.0</td>\n",
       "      <td>2.0</td>\n",
       "      <td>150.0</td>\n",
       "      <td>0.0</td>\n",
       "      <td>2.3</td>\n",
       "      <td>3.0</td>\n",
       "      <td>0.0</td>\n",
       "      <td>6.0</td>\n",
       "      <td>0</td>\n",
       "    </tr>\n",
       "    <tr>\n",
       "      <th>1</th>\n",
       "      <td>67.0</td>\n",
       "      <td>1.0</td>\n",
       "      <td>4.0</td>\n",
       "      <td>160.0</td>\n",
       "      <td>286.0</td>\n",
       "      <td>0.0</td>\n",
       "      <td>2.0</td>\n",
       "      <td>108.0</td>\n",
       "      <td>1.0</td>\n",
       "      <td>1.5</td>\n",
       "      <td>2.0</td>\n",
       "      <td>3.0</td>\n",
       "      <td>3.0</td>\n",
       "      <td>2</td>\n",
       "    </tr>\n",
       "    <tr>\n",
       "      <th>2</th>\n",
       "      <td>67.0</td>\n",
       "      <td>1.0</td>\n",
       "      <td>4.0</td>\n",
       "      <td>120.0</td>\n",
       "      <td>229.0</td>\n",
       "      <td>0.0</td>\n",
       "      <td>2.0</td>\n",
       "      <td>129.0</td>\n",
       "      <td>1.0</td>\n",
       "      <td>2.6</td>\n",
       "      <td>2.0</td>\n",
       "      <td>2.0</td>\n",
       "      <td>7.0</td>\n",
       "      <td>1</td>\n",
       "    </tr>\n",
       "    <tr>\n",
       "      <th>3</th>\n",
       "      <td>37.0</td>\n",
       "      <td>1.0</td>\n",
       "      <td>3.0</td>\n",
       "      <td>130.0</td>\n",
       "      <td>250.0</td>\n",
       "      <td>0.0</td>\n",
       "      <td>0.0</td>\n",
       "      <td>187.0</td>\n",
       "      <td>0.0</td>\n",
       "      <td>3.5</td>\n",
       "      <td>3.0</td>\n",
       "      <td>0.0</td>\n",
       "      <td>3.0</td>\n",
       "      <td>0</td>\n",
       "    </tr>\n",
       "    <tr>\n",
       "      <th>4</th>\n",
       "      <td>41.0</td>\n",
       "      <td>0.0</td>\n",
       "      <td>2.0</td>\n",
       "      <td>130.0</td>\n",
       "      <td>204.0</td>\n",
       "      <td>0.0</td>\n",
       "      <td>2.0</td>\n",
       "      <td>172.0</td>\n",
       "      <td>0.0</td>\n",
       "      <td>1.4</td>\n",
       "      <td>1.0</td>\n",
       "      <td>0.0</td>\n",
       "      <td>3.0</td>\n",
       "      <td>0</td>\n",
       "    </tr>\n",
       "  </tbody>\n",
       "</table>\n",
       "</div>"
      ],
      "text/plain": [
       "    age  sex   cp  trestbps   chol  fbs  restecg  thalach  exang  oldpeak  \\\n",
       "0  63.0  1.0  1.0     145.0  233.0  1.0      2.0    150.0    0.0      2.3   \n",
       "1  67.0  1.0  4.0     160.0  286.0  0.0      2.0    108.0    1.0      1.5   \n",
       "2  67.0  1.0  4.0     120.0  229.0  0.0      2.0    129.0    1.0      2.6   \n",
       "3  37.0  1.0  3.0     130.0  250.0  0.0      0.0    187.0    0.0      3.5   \n",
       "4  41.0  0.0  2.0     130.0  204.0  0.0      2.0    172.0    0.0      1.4   \n",
       "\n",
       "   slope   ca thal  target  \n",
       "0    3.0  0.0  6.0       0  \n",
       "1    2.0  3.0  3.0       2  \n",
       "2    2.0  2.0  7.0       1  \n",
       "3    3.0  0.0  3.0       0  \n",
       "4    1.0  0.0  3.0       0  "
      ]
     },
     "execution_count": 3,
     "metadata": {},
     "output_type": "execute_result"
    }
   ],
   "source": [
    "#data_path = 'http://archive.ics.uci.edu/ml/machine-learning-databases/heart-disease/processed.cleveland.data'\n",
    "columns = 'age,sex,cp,trestbps,chol,fbs,restecg,thalach,exang,oldpeak,slope,ca,thal,target'.split(',')\n",
    "\n",
    "heart_disease = pd.read_csv('processed.cleveland.data', names=columns)\n",
    "print(f'Rows: {heart_disease.shape[0]}\\nColumns: {heart_disease.shape[1]}')\n",
    "heart_disease.head()"
   ]
  },
  {
   "cell_type": "markdown",
   "metadata": {
    "heading_collapsed": true
   },
   "source": [
    "# Part 1 & 2 "
   ]
  },
  {
   "cell_type": "code",
   "execution_count": 4,
   "metadata": {
    "ExecuteTime": {
     "end_time": "2021-01-31T09:51:47.560452Z",
     "start_time": "2021-01-31T09:51:47.535466Z"
    },
    "hidden": true
   },
   "outputs": [],
   "source": [
    "heart_disease['target'] = heart_disease['target'].map(lambda x:0 if x==0 else 1)"
   ]
  },
  {
   "cell_type": "code",
   "execution_count": 5,
   "metadata": {
    "ExecuteTime": {
     "end_time": "2021-01-31T09:51:47.596427Z",
     "start_time": "2021-01-31T09:51:47.565447Z"
    },
    "hidden": true
   },
   "outputs": [],
   "source": [
    "#Missing Values : Replace '?' with None\n",
    "for column in heart_disease.select_dtypes('object'):\n",
    "    heart_disease[column] = heart_disease[column].replace('?', np.nan).astype(float)\n",
    "\n",
    "#Fill in None with most frequent value\n",
    "heart_disease[\"ca\"] = heart_disease[\"ca\"].fillna(heart_disease['ca'].mode()[0])\n",
    "heart_disease[\"thal\"] = heart_disease[\"thal\"].fillna(heart_disease['thal'].mode()[0])\n",
    "\n",
    "#Turn object type into integers\n",
    "heart_disease['ca'] = heart_disease['ca'].astype(float).astype(int)\n",
    "heart_disease['thal'] = heart_disease['thal'].astype(float).astype(int)"
   ]
  },
  {
   "cell_type": "code",
   "execution_count": 6,
   "metadata": {
    "ExecuteTime": {
     "end_time": "2021-01-31T09:51:47.639404Z",
     "start_time": "2021-01-31T09:51:47.603423Z"
    },
    "hidden": true
   },
   "outputs": [],
   "source": [
    "#Standardization\n",
    "columns = ['age', 'trestbps', 'chol', 'thalach', 'oldpeak', 'ca']\n",
    "scaler = StandardScaler()\n",
    "heart_disease.loc[:,columns] = scaler.fit_transform(heart_disease.loc[:,columns]) #this gives us back a dataframe"
   ]
  },
  {
   "cell_type": "markdown",
   "metadata": {
    "heading_collapsed": true
   },
   "source": [
    "# Part 5 "
   ]
  },
  {
   "cell_type": "code",
   "execution_count": 7,
   "metadata": {
    "ExecuteTime": {
     "end_time": "2021-01-31T09:51:47.685371Z",
     "start_time": "2021-01-31T09:51:47.646396Z"
    },
    "hidden": true
   },
   "outputs": [],
   "source": [
    "#Πρέπει να αλλάξουμε τα ονόματα όλων των τιμών προκειμένου να βλέπουμε ξεκάθαρα ποια itemsets εμφανίζονται κάθε φορά. \n",
    "#Ξεκινάμε με τις κατηγορικές μεταβλητές (και τις binary) : \n",
    "\n",
    "heart_disease['sex'].replace({1: \"male\", 0: \"female\"}, inplace=True)\n",
    "heart_disease['cp'].replace({1: \"typical\", 2: \"atypical\", 3: \"non anginal\", 4: \"asymptomatic\"}, inplace=True)\n",
    "heart_disease['fbs'].replace({1:\"> 120 mg/dl\", 0:\"<= 120 mg/dl\"}, inplace=True)\n",
    "heart_disease['restecg'].replace({0: \"normal\", 1: \"abnormality\", 2: \"hypertrophy\"}, inplace=True)\n",
    "heart_disease['exang'].replace({1:'yes',0:'no'}, inplace=True)\n",
    "heart_disease['slope'].replace({1: \"up\", 2: \"flat\", 3: \"down\"}, inplace=True)\n",
    "heart_disease['ca'].replace({0: \"0 vessels\", 1: \"1 vessel\", 2: \"2 vessels\", 3: \"3 vessels\"}, inplace=True)\n",
    "heart_disease['thal'].replace({3: \"normal\", 6: \"fixed\", 7: \"reversable\"}, inplace=True)\n",
    "heart_disease['target'].replace({0: \"no heart disease\", 1: \"heart_disease\"}, inplace=True)"
   ]
  },
  {
   "cell_type": "code",
   "execution_count": 8,
   "metadata": {
    "ExecuteTime": {
     "end_time": "2021-01-31T09:51:47.779312Z",
     "start_time": "2021-01-31T09:51:47.691369Z"
    },
    "hidden": true
   },
   "outputs": [
    {
     "name": "stdout",
     "output_type": "stream",
     "text": [
      "age 41\n",
      "trestbps 50\n",
      "chol 152\n",
      "thalach 91\n",
      "oldpeak 40\n"
     ]
    }
   ],
   "source": [
    "#Έπειτα, προχωράμε στις συνεχείς. Πριν τους αλλάξουμε όνομα, θα επιχειρίσουμε να τις χωρίσουμε σε bins, έτσι ώστε να \n",
    "#έχουμε πιο ξεκάθαρη διαχώριση μεταξύ τους.\n",
    "#Βλέπουμε πόσες μοναδικές τιμές έχει η κάθε συνεχής μεταβλητή. Με βάση τις τιμές αυτές, χωρίζουμε ανάλογα σε bins\n",
    "columns = ['age', 'trestbps', 'chol', 'thalach', 'oldpeak']\n",
    "for x in columns:\n",
    "    print(x,heart_disease[x].nunique())\n",
    "    \n",
    "heart_disease['age'] = pd.qcut(heart_disease['age'], q=3, duplicates='drop')\n",
    "heart_disease['trestbps'] = pd.qcut(heart_disease['trestbps'], q=2, duplicates='drop')\n",
    "heart_disease['chol'] = pd.qcut(heart_disease['chol'], q=3, duplicates='drop')\n",
    "heart_disease['thalach'] = pd.qcut(heart_disease['thalach'], q=3, duplicates='drop')\n",
    "heart_disease['oldpeak'] = pd.qcut(heart_disease['oldpeak'], q=2, duplicates='drop')\n",
    "\n",
    "#΄Τέλος, αλλάζουμε τα ονόματα όλων των τιμών \n",
    "heart_disease = heart_disease.astype(str)\n",
    "for col in heart_disease.columns:\n",
    "    heart_disease[col] = [col + '=' + x for x in heart_disease[col]]"
   ]
  },
  {
   "cell_type": "code",
   "execution_count": 9,
   "metadata": {
    "ExecuteTime": {
     "end_time": "2021-01-31T09:51:47.826284Z",
     "start_time": "2021-01-31T09:51:47.784309Z"
    },
    "hidden": true
   },
   "outputs": [
    {
     "data": {
      "text/html": [
       "<div>\n",
       "<style scoped>\n",
       "    .dataframe tbody tr th:only-of-type {\n",
       "        vertical-align: middle;\n",
       "    }\n",
       "\n",
       "    .dataframe tbody tr th {\n",
       "        vertical-align: top;\n",
       "    }\n",
       "\n",
       "    .dataframe thead th {\n",
       "        text-align: right;\n",
       "    }\n",
       "</style>\n",
       "<table border=\"1\" class=\"dataframe\">\n",
       "  <thead>\n",
       "    <tr style=\"text-align: right;\">\n",
       "      <th></th>\n",
       "      <th>age</th>\n",
       "      <th>sex</th>\n",
       "      <th>cp</th>\n",
       "      <th>trestbps</th>\n",
       "      <th>chol</th>\n",
       "      <th>fbs</th>\n",
       "      <th>restecg</th>\n",
       "      <th>thalach</th>\n",
       "      <th>exang</th>\n",
       "      <th>oldpeak</th>\n",
       "      <th>slope</th>\n",
       "      <th>ca</th>\n",
       "      <th>thal</th>\n",
       "      <th>target</th>\n",
       "    </tr>\n",
       "  </thead>\n",
       "  <tbody>\n",
       "    <tr>\n",
       "      <th>0</th>\n",
       "      <td>age=(0.505, 2.5]</td>\n",
       "      <td>sex=male</td>\n",
       "      <td>cp=typical</td>\n",
       "      <td>trestbps=(-0.0962, 3.888]</td>\n",
       "      <td>chol=(-0.478, 0.322]</td>\n",
       "      <td>fbs=&gt; 120 mg/dl</td>\n",
       "      <td>restecg=hypertrophy</td>\n",
       "      <td>thalach=(-0.289, 0.543]</td>\n",
       "      <td>exang=no</td>\n",
       "      <td>oldpeak=(-0.207, 4.452]</td>\n",
       "      <td>slope=down</td>\n",
       "      <td>ca=-0.7111313860964096</td>\n",
       "      <td>thal=fixed</td>\n",
       "      <td>target=no heart disease</td>\n",
       "    </tr>\n",
       "    <tr>\n",
       "      <th>1</th>\n",
       "      <td>age=(0.505, 2.5]</td>\n",
       "      <td>sex=male</td>\n",
       "      <td>cp=asymptomatic</td>\n",
       "      <td>trestbps=(-0.0962, 3.888]</td>\n",
       "      <td>chol=(0.322, 6.138]</td>\n",
       "      <td>fbs=&lt;= 120 mg/dl</td>\n",
       "      <td>restecg=hypertrophy</td>\n",
       "      <td>thalach=(-3.443, -0.289]</td>\n",
       "      <td>exang=yes</td>\n",
       "      <td>oldpeak=(-0.207, 4.452]</td>\n",
       "      <td>slope=flat</td>\n",
       "      <td>ca=2.504880703264965</td>\n",
       "      <td>thal=normal</td>\n",
       "      <td>target=heart_disease</td>\n",
       "    </tr>\n",
       "    <tr>\n",
       "      <th>2</th>\n",
       "      <td>age=(0.505, 2.5]</td>\n",
       "      <td>sex=male</td>\n",
       "      <td>cp=asymptomatic</td>\n",
       "      <td>trestbps=(-2.146, -0.0962]</td>\n",
       "      <td>chol=(-0.478, 0.322]</td>\n",
       "      <td>fbs=&lt;= 120 mg/dl</td>\n",
       "      <td>restecg=hypertrophy</td>\n",
       "      <td>thalach=(-3.443, -0.289]</td>\n",
       "      <td>exang=yes</td>\n",
       "      <td>oldpeak=(-0.207, 4.452]</td>\n",
       "      <td>slope=flat</td>\n",
       "      <td>ca=1.43287667347784</td>\n",
       "      <td>thal=reversable</td>\n",
       "      <td>target=heart_disease</td>\n",
       "    </tr>\n",
       "    <tr>\n",
       "      <th>3</th>\n",
       "      <td>age=(-2.82, -0.381]</td>\n",
       "      <td>sex=male</td>\n",
       "      <td>cp=non anginal</td>\n",
       "      <td>trestbps=(-2.146, -0.0962]</td>\n",
       "      <td>chol=(-0.478, 0.322]</td>\n",
       "      <td>fbs=&lt;= 120 mg/dl</td>\n",
       "      <td>restecg=normal</td>\n",
       "      <td>thalach=(0.543, 2.294]</td>\n",
       "      <td>exang=no</td>\n",
       "      <td>oldpeak=(-0.207, 4.452]</td>\n",
       "      <td>slope=down</td>\n",
       "      <td>ca=-0.7111313860964096</td>\n",
       "      <td>thal=normal</td>\n",
       "      <td>target=no heart disease</td>\n",
       "    </tr>\n",
       "    <tr>\n",
       "      <th>4</th>\n",
       "      <td>age=(-2.82, -0.381]</td>\n",
       "      <td>sex=female</td>\n",
       "      <td>cp=atypical</td>\n",
       "      <td>trestbps=(-2.146, -0.0962]</td>\n",
       "      <td>chol=(-2.336, -0.478]</td>\n",
       "      <td>fbs=&lt;= 120 mg/dl</td>\n",
       "      <td>restecg=hypertrophy</td>\n",
       "      <td>thalach=(0.543, 2.294]</td>\n",
       "      <td>exang=no</td>\n",
       "      <td>oldpeak=(-0.207, 4.452]</td>\n",
       "      <td>slope=up</td>\n",
       "      <td>ca=-0.7111313860964096</td>\n",
       "      <td>thal=normal</td>\n",
       "      <td>target=no heart disease</td>\n",
       "    </tr>\n",
       "  </tbody>\n",
       "</table>\n",
       "</div>"
      ],
      "text/plain": [
       "                   age         sex               cp  \\\n",
       "0     age=(0.505, 2.5]    sex=male       cp=typical   \n",
       "1     age=(0.505, 2.5]    sex=male  cp=asymptomatic   \n",
       "2     age=(0.505, 2.5]    sex=male  cp=asymptomatic   \n",
       "3  age=(-2.82, -0.381]    sex=male   cp=non anginal   \n",
       "4  age=(-2.82, -0.381]  sex=female      cp=atypical   \n",
       "\n",
       "                     trestbps                   chol               fbs  \\\n",
       "0   trestbps=(-0.0962, 3.888]   chol=(-0.478, 0.322]   fbs=> 120 mg/dl   \n",
       "1   trestbps=(-0.0962, 3.888]    chol=(0.322, 6.138]  fbs=<= 120 mg/dl   \n",
       "2  trestbps=(-2.146, -0.0962]   chol=(-0.478, 0.322]  fbs=<= 120 mg/dl   \n",
       "3  trestbps=(-2.146, -0.0962]   chol=(-0.478, 0.322]  fbs=<= 120 mg/dl   \n",
       "4  trestbps=(-2.146, -0.0962]  chol=(-2.336, -0.478]  fbs=<= 120 mg/dl   \n",
       "\n",
       "               restecg                   thalach      exang  \\\n",
       "0  restecg=hypertrophy   thalach=(-0.289, 0.543]   exang=no   \n",
       "1  restecg=hypertrophy  thalach=(-3.443, -0.289]  exang=yes   \n",
       "2  restecg=hypertrophy  thalach=(-3.443, -0.289]  exang=yes   \n",
       "3       restecg=normal    thalach=(0.543, 2.294]   exang=no   \n",
       "4  restecg=hypertrophy    thalach=(0.543, 2.294]   exang=no   \n",
       "\n",
       "                   oldpeak       slope                      ca  \\\n",
       "0  oldpeak=(-0.207, 4.452]  slope=down  ca=-0.7111313860964096   \n",
       "1  oldpeak=(-0.207, 4.452]  slope=flat    ca=2.504880703264965   \n",
       "2  oldpeak=(-0.207, 4.452]  slope=flat     ca=1.43287667347784   \n",
       "3  oldpeak=(-0.207, 4.452]  slope=down  ca=-0.7111313860964096   \n",
       "4  oldpeak=(-0.207, 4.452]    slope=up  ca=-0.7111313860964096   \n",
       "\n",
       "              thal                   target  \n",
       "0       thal=fixed  target=no heart disease  \n",
       "1      thal=normal     target=heart_disease  \n",
       "2  thal=reversable     target=heart_disease  \n",
       "3      thal=normal  target=no heart disease  \n",
       "4      thal=normal  target=no heart disease  "
      ]
     },
     "execution_count": 9,
     "metadata": {},
     "output_type": "execute_result"
    }
   ],
   "source": [
    "heart_disease.head()"
   ]
  },
  {
   "cell_type": "markdown",
   "metadata": {
    "heading_collapsed": true
   },
   "source": [
    "# Association Rules "
   ]
  },
  {
   "cell_type": "code",
   "execution_count": 10,
   "metadata": {
    "ExecuteTime": {
     "end_time": "2021-01-31T09:51:47.858264Z",
     "start_time": "2021-01-31T09:51:47.832281Z"
    },
    "hidden": true
   },
   "outputs": [],
   "source": [
    "hd_list = heart_disease.values.tolist()\n",
    "\n",
    "trans_enc = TransactionEncoder()\n",
    "hd_array = trans_enc.fit(hd_list).transform(hd_list)\n",
    "\n",
    "hd_df = pd.DataFrame(hd_array, columns = trans_enc.columns_ )"
   ]
  },
  {
   "cell_type": "code",
   "execution_count": 11,
   "metadata": {
    "ExecuteTime": {
     "end_time": "2021-01-31T09:51:47.922223Z",
     "start_time": "2021-01-31T09:51:47.863263Z"
    },
    "hidden": true
   },
   "outputs": [
    {
     "data": {
      "text/html": [
       "<div>\n",
       "<style scoped>\n",
       "    .dataframe tbody tr th:only-of-type {\n",
       "        vertical-align: middle;\n",
       "    }\n",
       "\n",
       "    .dataframe tbody tr th {\n",
       "        vertical-align: top;\n",
       "    }\n",
       "\n",
       "    .dataframe thead th {\n",
       "        text-align: right;\n",
       "    }\n",
       "</style>\n",
       "<table border=\"1\" class=\"dataframe\">\n",
       "  <thead>\n",
       "    <tr style=\"text-align: right;\">\n",
       "      <th></th>\n",
       "      <th>support</th>\n",
       "      <th>itemsets</th>\n",
       "    </tr>\n",
       "  </thead>\n",
       "  <tbody>\n",
       "    <tr>\n",
       "      <th>2</th>\n",
       "      <td>0.851485</td>\n",
       "      <td>(fbs=&lt;= 120 mg/dl)</td>\n",
       "    </tr>\n",
       "    <tr>\n",
       "      <th>4</th>\n",
       "      <td>0.679868</td>\n",
       "      <td>(sex=male)</td>\n",
       "    </tr>\n",
       "    <tr>\n",
       "      <th>1</th>\n",
       "      <td>0.673267</td>\n",
       "      <td>(exang=no)</td>\n",
       "    </tr>\n",
       "    <tr>\n",
       "      <th>0</th>\n",
       "      <td>0.594059</td>\n",
       "      <td>(ca=-0.7111313860964096)</td>\n",
       "    </tr>\n",
       "    <tr>\n",
       "      <th>9</th>\n",
       "      <td>0.577558</td>\n",
       "      <td>(exang=no, fbs=&lt;= 120 mg/dl)</td>\n",
       "    </tr>\n",
       "    <tr>\n",
       "      <th>10</th>\n",
       "      <td>0.570957</td>\n",
       "      <td>(sex=male, fbs=&lt;= 120 mg/dl)</td>\n",
       "    </tr>\n",
       "    <tr>\n",
       "      <th>7</th>\n",
       "      <td>0.564356</td>\n",
       "      <td>(trestbps=(-2.146, -0.0962])</td>\n",
       "    </tr>\n",
       "    <tr>\n",
       "      <th>6</th>\n",
       "      <td>0.554455</td>\n",
       "      <td>(thal=normal)</td>\n",
       "    </tr>\n",
       "    <tr>\n",
       "      <th>5</th>\n",
       "      <td>0.541254</td>\n",
       "      <td>(target=no heart disease)</td>\n",
       "    </tr>\n",
       "    <tr>\n",
       "      <th>3</th>\n",
       "      <td>0.537954</td>\n",
       "      <td>(oldpeak=(-0.898, -0.207])</td>\n",
       "    </tr>\n",
       "    <tr>\n",
       "      <th>8</th>\n",
       "      <td>0.524752</td>\n",
       "      <td>(ca=-0.7111313860964096, fbs=&lt;= 120 mg/dl)</td>\n",
       "    </tr>\n",
       "  </tbody>\n",
       "</table>\n",
       "</div>"
      ],
      "text/plain": [
       "     support                                    itemsets\n",
       "2   0.851485                          (fbs=<= 120 mg/dl)\n",
       "4   0.679868                                  (sex=male)\n",
       "1   0.673267                                  (exang=no)\n",
       "0   0.594059                    (ca=-0.7111313860964096)\n",
       "9   0.577558                (exang=no, fbs=<= 120 mg/dl)\n",
       "10  0.570957                (sex=male, fbs=<= 120 mg/dl)\n",
       "7   0.564356                (trestbps=(-2.146, -0.0962])\n",
       "6   0.554455                               (thal=normal)\n",
       "5   0.541254                   (target=no heart disease)\n",
       "3   0.537954                  (oldpeak=(-0.898, -0.207])\n",
       "8   0.524752  (ca=-0.7111313860964096, fbs=<= 120 mg/dl)"
      ]
     },
     "execution_count": 11,
     "metadata": {},
     "output_type": "execute_result"
    }
   ],
   "source": [
    "freq = apriori(hd_df, min_support=0.5, use_colnames=True)\n",
    "freq.sort_values('support', ascending=False)"
   ]
  },
  {
   "cell_type": "code",
   "execution_count": 12,
   "metadata": {
    "ExecuteTime": {
     "end_time": "2021-01-31T09:51:47.970193Z",
     "start_time": "2021-01-31T09:51:47.927221Z"
    },
    "hidden": true
   },
   "outputs": [
    {
     "name": "stdout",
     "output_type": "stream",
     "text": [
      "                antecedents         consequents  antecedent support  \\\n",
      "0  (ca=-0.7111313860964096)  (fbs=<= 120 mg/dl)            0.594059   \n",
      "1                (exang=no)  (fbs=<= 120 mg/dl)            0.673267   \n",
      "2                (sex=male)  (fbs=<= 120 mg/dl)            0.679868   \n",
      "\n",
      "   consequent support   support  confidence      lift  leverage  conviction  \n",
      "0            0.851485  0.524752    0.883333  1.037403  0.018920    1.272984  \n",
      "1            0.851485  0.577558    0.857843  1.007467  0.004281    1.044725  \n",
      "2            0.851485  0.570957    0.839806  0.986284 -0.007940    0.927093  \n",
      "We have 3 rules.\n"
     ]
    }
   ],
   "source": [
    "rules = association_rules(freq, metric=\"confidence\", min_threshold=0.7)\n",
    "print(rules)\n",
    "print(f'We have {len(rules)} rules.')"
   ]
  },
  {
   "cell_type": "code",
   "execution_count": 13,
   "metadata": {
    "ExecuteTime": {
     "end_time": "2021-01-31T09:51:48.761268Z",
     "start_time": "2021-01-31T09:51:47.976190Z"
    },
    "hidden": true
   },
   "outputs": [
    {
     "data": {
      "text/plain": [
       "Text(0.5, 1.0, '(sex=male, fbs<= 120 mg/dl)')"
      ]
     },
     "execution_count": 13,
     "metadata": {},
     "output_type": "execute_result"
    },
    {
     "data": {
      "image/png": "[encoded data removed]",
      "text/plain": [
       "<Figure size 1152x432 with 3 Axes>"
      ]
     },
     "metadata": {},
     "output_type": "display_data"
    }
   ],
   "source": [
    "#Βλέπουμε ότι η τιμή fbs είναι και στα 3 συχνότερα itemsets. Ας δούμε πως αλλάζει η target για κάθε τιμή που εμφανίζεται\n",
    "#μαζί της. \n",
    "fig, axes = plt.subplots(1,3, figsize=(16, 6))\n",
    "\n",
    "sns.histplot(ax=axes[0], x='target', \n",
    "            data = heart_disease[(heart_disease['ca']== 'ca=-0.7111313860964096') & \n",
    "                                 (heart_disease['fbs']=='fbs=<= 120 mg/dl')],)\n",
    "sns.histplot(ax=axes[1], x='target', \n",
    "            data = heart_disease[(heart_disease['exang']== 'exang=no') & \n",
    "                                 (heart_disease['fbs']=='fbs=<= 120 mg/dl')])\n",
    "sns.histplot(ax=axes[2], x='target', \n",
    "            data = heart_disease[(heart_disease['sex']== 'sex=male') & \n",
    "                                 (heart_disease['fbs']=='fbs=<= 120 mg/dl')])\n",
    "\n",
    "axes[0].set_title('(ca=-0.7111313860964096, fbs<= 120 mg/dl)')\n",
    "axes[1].set_title('(exang=no, fbs<= 120 mg/dl)')\n",
    "axes[2].set_title('(sex=male, fbs<= 120 mg/dl)')"
   ]
  }
 ],
 "metadata": {
  "kernelspec": {
   "display_name": "Python 3",
   "language": "python",
   "name": "python3"
  },
  "language_info": {
   "codemirror_mode": {
    "name": "ipython",
    "version": 3
   },
   "file_extension": ".py",
   "mimetype": "text/x-python",
   "name": "python",
   "nbconvert_exporter": "python",
   "pygments_lexer": "ipython3",
   "version": "3.7.9"
  },
  "varInspector": {
   "cols": {
    "lenName": 16,
    "lenType": 16,
    "lenVar": 40
   },
   "kernels_config": {
    "python": {
     "delete_cmd_postfix": "",
     "delete_cmd_prefix": "del ",
     "library": "var_list.py",
     "varRefreshCmd": "print(var_dic_list())"
    },
    "r": {
     "delete_cmd_postfix": ") ",
     "delete_cmd_prefix": "rm(",
     "library": "var_list.r",
     "varRefreshCmd": "cat(var_dic_list()) "
    }
   },
   "types_to_exclude": [
    "module",
    "function",
    "builtin_function_or_method",
    "instance",
    "_Feature"
   ],
   "window_display": false
  }
 },
 "nbformat": 4,
 "nbformat_minor": 4
}
