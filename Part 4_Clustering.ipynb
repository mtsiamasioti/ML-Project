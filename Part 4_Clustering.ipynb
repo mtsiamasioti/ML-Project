{
 "cells": [
  {
   "cell_type": "raw",
   "metadata": {},
   "source": [
    "Επαναλάβετε την υπο-εργασία 3, αυτήν τη φορά για συσταδοποίηση. Χρησιμοποιήστε τουλάχιστον δύο (2) αλγορίθμους (π.χ. DBScan, OPTICS, K-Means, νευρωνικό δίκτυο, εκμάθηση λεξικού, …). Αξιολογήστε τις επιδόσεις τους χρησιμοποιώντας το silhouette coefficient και συγκρίνετε τ’ αποτελέσματά τους."
   ]
  },
  {
   "cell_type": "code",
   "execution_count": 1,
   "metadata": {
    "ExecuteTime": {
     "end_time": "2021-01-31T09:53:03.446845Z",
     "start_time": "2021-01-31T09:53:00.858324Z"
    }
   },
   "outputs": [
    {
     "data": {
      "text/html": [
       "<style>.container {width:90% !important;}</style>"
      ],
      "text/plain": [
       "<IPython.core.display.HTML object>"
      ]
     },
     "metadata": {},
     "output_type": "display_data"
    }
   ],
   "source": [
    "from IPython.core.display import display, HTML\n",
    "display(HTML(\"<style>.container {width:90% !important;}</style>\"))\n",
    "\n",
    "import numpy as np\n",
    "import pandas as pd\n",
    "import matplotlib.pyplot as plt\n",
    "import seaborn as sns\n",
    "\n",
    "%matplotlib inline\n",
    "plt.style.use('ggplot')\n",
    "sns.set_palette(\"rainbow\")"
   ]
  },
  {
   "cell_type": "code",
   "execution_count": 2,
   "metadata": {
    "ExecuteTime": {
     "end_time": "2021-01-31T09:53:04.166093Z",
     "start_time": "2021-01-31T09:53:03.449839Z"
    }
   },
   "outputs": [],
   "source": [
    "from sklearn.preprocessing import StandardScaler\n",
    "from sklearn.cluster import DBSCAN\n",
    "from sklearn import metrics\n",
    "from sklearn.cluster import OPTICS, cluster_optics_dbscan\n",
    "import matplotlib.gridspec as gridspec\n",
    "from sklearn.cluster import KMeans\n",
    "from sklearn.metrics import silhouette_score\n",
    "from sklearn.decomposition import PCA"
   ]
  },
  {
   "cell_type": "code",
   "execution_count": 3,
   "metadata": {
    "ExecuteTime": {
     "end_time": "2021-01-31T09:53:04.182084Z",
     "start_time": "2021-01-31T09:53:04.169091Z"
    }
   },
   "outputs": [],
   "source": [
    "plt.rcParams.update({'font.size': 10})"
   ]
  },
  {
   "cell_type": "code",
   "execution_count": 4,
   "metadata": {
    "ExecuteTime": {
     "end_time": "2021-01-31T09:53:05.304574Z",
     "start_time": "2021-01-31T09:53:04.186082Z"
    }
   },
   "outputs": [
    {
     "name": "stdout",
     "output_type": "stream",
     "text": [
      "Rows: 303\n",
      "Columns: 14\n"
     ]
    },
    {
     "data": {
      "text/html": [
       "<div>\n",
       "<style scoped>\n",
       "    .dataframe tbody tr th:only-of-type {\n",
       "        vertical-align: middle;\n",
       "    }\n",
       "\n",
       "    .dataframe tbody tr th {\n",
       "        vertical-align: top;\n",
       "    }\n",
       "\n",
       "    .dataframe thead th {\n",
       "        text-align: right;\n",
       "    }\n",
       "</style>\n",
       "<table border=\"1\" class=\"dataframe\">\n",
       "  <thead>\n",
       "    <tr style=\"text-align: right;\">\n",
       "      <th></th>\n",
       "      <th>age</th>\n",
       "      <th>sex</th>\n",
       "      <th>cp</th>\n",
       "      <th>trestbps</th>\n",
       "      <th>chol</th>\n",
       "      <th>fbs</th>\n",
       "      <th>restecg</th>\n",
       "      <th>thalach</th>\n",
       "      <th>exang</th>\n",
       "      <th>oldpeak</th>\n",
       "      <th>slope</th>\n",
       "      <th>ca</th>\n",
       "      <th>thal</th>\n",
       "      <th>target</th>\n",
       "    </tr>\n",
       "  </thead>\n",
       "  <tbody>\n",
       "    <tr>\n",
       "      <th>0</th>\n",
       "      <td>63.0</td>\n",
       "      <td>1.0</td>\n",
       "      <td>1.0</td>\n",
       "      <td>145.0</td>\n",
       "      <td>233.0</td>\n",
       "      <td>1.0</td>\n",
       "      <td>2.0</td>\n",
       "      <td>150.0</td>\n",
       "      <td>0.0</td>\n",
       "      <td>2.3</td>\n",
       "      <td>3.0</td>\n",
       "      <td>0.0</td>\n",
       "      <td>6.0</td>\n",
       "      <td>0</td>\n",
       "    </tr>\n",
       "    <tr>\n",
       "      <th>1</th>\n",
       "      <td>67.0</td>\n",
       "      <td>1.0</td>\n",
       "      <td>4.0</td>\n",
       "      <td>160.0</td>\n",
       "      <td>286.0</td>\n",
       "      <td>0.0</td>\n",
       "      <td>2.0</td>\n",
       "      <td>108.0</td>\n",
       "      <td>1.0</td>\n",
       "      <td>1.5</td>\n",
       "      <td>2.0</td>\n",
       "      <td>3.0</td>\n",
       "      <td>3.0</td>\n",
       "      <td>2</td>\n",
       "    </tr>\n",
       "    <tr>\n",
       "      <th>2</th>\n",
       "      <td>67.0</td>\n",
       "      <td>1.0</td>\n",
       "      <td>4.0</td>\n",
       "      <td>120.0</td>\n",
       "      <td>229.0</td>\n",
       "      <td>0.0</td>\n",
       "      <td>2.0</td>\n",
       "      <td>129.0</td>\n",
       "      <td>1.0</td>\n",
       "      <td>2.6</td>\n",
       "      <td>2.0</td>\n",
       "      <td>2.0</td>\n",
       "      <td>7.0</td>\n",
       "      <td>1</td>\n",
       "    </tr>\n",
       "    <tr>\n",
       "      <th>3</th>\n",
       "      <td>37.0</td>\n",
       "      <td>1.0</td>\n",
       "      <td>3.0</td>\n",
       "      <td>130.0</td>\n",
       "      <td>250.0</td>\n",
       "      <td>0.0</td>\n",
       "      <td>0.0</td>\n",
       "      <td>187.0</td>\n",
       "      <td>0.0</td>\n",
       "      <td>3.5</td>\n",
       "      <td>3.0</td>\n",
       "      <td>0.0</td>\n",
       "      <td>3.0</td>\n",
       "      <td>0</td>\n",
       "    </tr>\n",
       "    <tr>\n",
       "      <th>4</th>\n",
       "      <td>41.0</td>\n",
       "      <td>0.0</td>\n",
       "      <td>2.0</td>\n",
       "      <td>130.0</td>\n",
       "      <td>204.0</td>\n",
       "      <td>0.0</td>\n",
       "      <td>2.0</td>\n",
       "      <td>172.0</td>\n",
       "      <td>0.0</td>\n",
       "      <td>1.4</td>\n",
       "      <td>1.0</td>\n",
       "      <td>0.0</td>\n",
       "      <td>3.0</td>\n",
       "      <td>0</td>\n",
       "    </tr>\n",
       "  </tbody>\n",
       "</table>\n",
       "</div>"
      ],
      "text/plain": [
       "    age  sex   cp  trestbps   chol  fbs  restecg  thalach  exang  oldpeak  \\\n",
       "0  63.0  1.0  1.0     145.0  233.0  1.0      2.0    150.0    0.0      2.3   \n",
       "1  67.0  1.0  4.0     160.0  286.0  0.0      2.0    108.0    1.0      1.5   \n",
       "2  67.0  1.0  4.0     120.0  229.0  0.0      2.0    129.0    1.0      2.6   \n",
       "3  37.0  1.0  3.0     130.0  250.0  0.0      0.0    187.0    0.0      3.5   \n",
       "4  41.0  0.0  2.0     130.0  204.0  0.0      2.0    172.0    0.0      1.4   \n",
       "\n",
       "   slope   ca thal  target  \n",
       "0    3.0  0.0  6.0       0  \n",
       "1    2.0  3.0  3.0       2  \n",
       "2    2.0  2.0  7.0       1  \n",
       "3    3.0  0.0  3.0       0  \n",
       "4    1.0  0.0  3.0       0  "
      ]
     },
     "execution_count": 4,
     "metadata": {},
     "output_type": "execute_result"
    }
   ],
   "source": [
    "data_path = 'http://archive.ics.uci.edu/ml/machine-learning-databases/heart-disease/processed.cleveland.data'\n",
    "columns = 'age,sex,cp,trestbps,chol,fbs,restecg,thalach,exang,oldpeak,slope,ca,thal,target'.split(',')\n",
    "\n",
    "heart_disease = pd.read_csv(data_path, names=columns)\n",
    "print(f'Rows: {heart_disease.shape[0]}\\nColumns: {heart_disease.shape[1]}')\n",
    "#print(heart_disease.dtypes)\n",
    "heart_disease.head()"
   ]
  },
  {
   "cell_type": "markdown",
   "metadata": {},
   "source": [
    "Το clustering θεωρείται κομμάτι του unsupervised learning, δηλαδή έχουμε τα δεδομένα Χ για τα οποία δεν μας δίνεται καμία πληροφορία για τις ετικέτες τους, και καλούμαστε να τα χωρίσουμε σε clusters τα οποία περιγράφουν τη δομή των δεδομένων μας (ιδανικά, θα αντιστοιχίζονται στην μεταβλητή y).     \n",
    "\n",
    "Συνεπώς, για να προχωρήσουμε σε συσταδοποίηση, θα πρέπει να αφαιρέσουμε από το dataset την μεταβλητή target, καθώς όπως είπαμε σε ένα clustering project δεν γνωρίζουμε ποτέ τα labels των δεδομένων μας. "
   ]
  },
  {
   "cell_type": "code",
   "execution_count": 5,
   "metadata": {
    "ExecuteTime": {
     "end_time": "2021-01-31T09:53:05.319565Z",
     "start_time": "2021-01-31T09:53:05.308571Z"
    }
   },
   "outputs": [],
   "source": [
    "target = heart_disease['target']\n",
    "heart_disease = heart_disease.drop('target', axis=1)"
   ]
  },
  {
   "cell_type": "code",
   "execution_count": 6,
   "metadata": {
    "ExecuteTime": {
     "end_time": "2021-01-31T09:53:05.335553Z",
     "start_time": "2021-01-31T09:53:05.323562Z"
    }
   },
   "outputs": [],
   "source": [
    "target = target.map(lambda x: 0 if x == 0 else 1)"
   ]
  },
  {
   "cell_type": "markdown",
   "metadata": {},
   "source": [
    "Θα χρησιμοποιήσω την μεταβλητή y(target) μόνο για να αξιολογήσω το μοντέλο μου στο τέλος, και όχι για να το εκπαιδεύσω. "
   ]
  },
  {
   "cell_type": "markdown",
   "metadata": {
    "heading_collapsed": true
   },
   "source": [
    "# Part 1 and 2 "
   ]
  },
  {
   "cell_type": "code",
   "execution_count": 7,
   "metadata": {
    "ExecuteTime": {
     "end_time": "2021-01-31T09:53:05.367535Z",
     "start_time": "2021-01-31T09:53:05.338554Z"
    },
    "hidden": true
   },
   "outputs": [],
   "source": [
    "#Missing Values : Replace '?' with None\n",
    "for column in heart_disease.select_dtypes('object'):\n",
    "    heart_disease[column] = heart_disease[column].replace('?', np.nan).astype(float)\n",
    "\n",
    "#Fill in None with most frequent value\n",
    "heart_disease[\"ca\"] = heart_disease[\"ca\"].fillna(heart_disease['ca'].mode()[0])\n",
    "heart_disease[\"thal\"] = heart_disease[\"thal\"].fillna(heart_disease['thal'].mode()[0])\n",
    "\n",
    "#Turn object type into integers\n",
    "heart_disease['ca'] = heart_disease['ca'].astype(float).astype(int)\n",
    "heart_disease['thal'] = heart_disease['thal'].astype(float).astype(int)"
   ]
  },
  {
   "cell_type": "markdown",
   "metadata": {
    "hidden": true
   },
   "source": [
    "## Standardization "
   ]
  },
  {
   "cell_type": "code",
   "execution_count": 8,
   "metadata": {
    "ExecuteTime": {
     "end_time": "2021-01-31T09:53:05.399515Z",
     "start_time": "2021-01-31T09:53:05.373531Z"
    },
    "hidden": true
   },
   "outputs": [],
   "source": [
    "columns = ['age', 'trestbps', 'chol', 'thalach', 'oldpeak', 'ca']\n",
    "scaler = StandardScaler()\n",
    "heart_disease.loc[:,columns] = scaler.fit_transform(heart_disease.loc[:,columns]) #this gives us back a dataframe"
   ]
  },
  {
   "cell_type": "code",
   "execution_count": 9,
   "metadata": {
    "ExecuteTime": {
     "end_time": "2021-01-31T09:53:05.446485Z",
     "start_time": "2021-01-31T09:53:05.407510Z"
    },
    "hidden": true
   },
   "outputs": [
    {
     "data": {
      "text/html": [
       "<div>\n",
       "<style scoped>\n",
       "    .dataframe tbody tr th:only-of-type {\n",
       "        vertical-align: middle;\n",
       "    }\n",
       "\n",
       "    .dataframe tbody tr th {\n",
       "        vertical-align: top;\n",
       "    }\n",
       "\n",
       "    .dataframe thead th {\n",
       "        text-align: right;\n",
       "    }\n",
       "</style>\n",
       "<table border=\"1\" class=\"dataframe\">\n",
       "  <thead>\n",
       "    <tr style=\"text-align: right;\">\n",
       "      <th></th>\n",
       "      <th>age</th>\n",
       "      <th>sex</th>\n",
       "      <th>cp</th>\n",
       "      <th>trestbps</th>\n",
       "      <th>chol</th>\n",
       "      <th>fbs</th>\n",
       "      <th>restecg</th>\n",
       "      <th>thalach</th>\n",
       "      <th>exang</th>\n",
       "      <th>oldpeak</th>\n",
       "      <th>slope</th>\n",
       "      <th>ca</th>\n",
       "      <th>thal</th>\n",
       "    </tr>\n",
       "  </thead>\n",
       "  <tbody>\n",
       "    <tr>\n",
       "      <th>0</th>\n",
       "      <td>0.948726</td>\n",
       "      <td>1.0</td>\n",
       "      <td>1.0</td>\n",
       "      <td>0.757525</td>\n",
       "      <td>-0.264900</td>\n",
       "      <td>1.0</td>\n",
       "      <td>2.0</td>\n",
       "      <td>0.017197</td>\n",
       "      <td>0.0</td>\n",
       "      <td>1.087338</td>\n",
       "      <td>3.0</td>\n",
       "      <td>-0.711131</td>\n",
       "      <td>6</td>\n",
       "    </tr>\n",
       "    <tr>\n",
       "      <th>1</th>\n",
       "      <td>1.392002</td>\n",
       "      <td>1.0</td>\n",
       "      <td>4.0</td>\n",
       "      <td>1.611220</td>\n",
       "      <td>0.760415</td>\n",
       "      <td>0.0</td>\n",
       "      <td>2.0</td>\n",
       "      <td>-1.821905</td>\n",
       "      <td>1.0</td>\n",
       "      <td>0.397182</td>\n",
       "      <td>2.0</td>\n",
       "      <td>2.504881</td>\n",
       "      <td>3</td>\n",
       "    </tr>\n",
       "    <tr>\n",
       "      <th>2</th>\n",
       "      <td>1.392002</td>\n",
       "      <td>1.0</td>\n",
       "      <td>4.0</td>\n",
       "      <td>-0.665300</td>\n",
       "      <td>-0.342283</td>\n",
       "      <td>0.0</td>\n",
       "      <td>2.0</td>\n",
       "      <td>-0.902354</td>\n",
       "      <td>1.0</td>\n",
       "      <td>1.346147</td>\n",
       "      <td>2.0</td>\n",
       "      <td>1.432877</td>\n",
       "      <td>7</td>\n",
       "    </tr>\n",
       "    <tr>\n",
       "      <th>3</th>\n",
       "      <td>-1.932564</td>\n",
       "      <td>1.0</td>\n",
       "      <td>3.0</td>\n",
       "      <td>-0.096170</td>\n",
       "      <td>0.063974</td>\n",
       "      <td>0.0</td>\n",
       "      <td>0.0</td>\n",
       "      <td>1.637359</td>\n",
       "      <td>0.0</td>\n",
       "      <td>2.122573</td>\n",
       "      <td>3.0</td>\n",
       "      <td>-0.711131</td>\n",
       "      <td>3</td>\n",
       "    </tr>\n",
       "    <tr>\n",
       "      <th>4</th>\n",
       "      <td>-1.489288</td>\n",
       "      <td>0.0</td>\n",
       "      <td>2.0</td>\n",
       "      <td>-0.096170</td>\n",
       "      <td>-0.825922</td>\n",
       "      <td>0.0</td>\n",
       "      <td>2.0</td>\n",
       "      <td>0.980537</td>\n",
       "      <td>0.0</td>\n",
       "      <td>0.310912</td>\n",
       "      <td>1.0</td>\n",
       "      <td>-0.711131</td>\n",
       "      <td>3</td>\n",
       "    </tr>\n",
       "  </tbody>\n",
       "</table>\n",
       "</div>"
      ],
      "text/plain": [
       "        age  sex   cp  trestbps      chol  fbs  restecg   thalach  exang  \\\n",
       "0  0.948726  1.0  1.0  0.757525 -0.264900  1.0      2.0  0.017197    0.0   \n",
       "1  1.392002  1.0  4.0  1.611220  0.760415  0.0      2.0 -1.821905    1.0   \n",
       "2  1.392002  1.0  4.0 -0.665300 -0.342283  0.0      2.0 -0.902354    1.0   \n",
       "3 -1.932564  1.0  3.0 -0.096170  0.063974  0.0      0.0  1.637359    0.0   \n",
       "4 -1.489288  0.0  2.0 -0.096170 -0.825922  0.0      2.0  0.980537    0.0   \n",
       "\n",
       "    oldpeak  slope        ca  thal  \n",
       "0  1.087338    3.0 -0.711131     6  \n",
       "1  0.397182    2.0  2.504881     3  \n",
       "2  1.346147    2.0  1.432877     7  \n",
       "3  2.122573    3.0 -0.711131     3  \n",
       "4  0.310912    1.0 -0.711131     3  "
      ]
     },
     "execution_count": 9,
     "metadata": {},
     "output_type": "execute_result"
    }
   ],
   "source": [
    "heart_disease.head()"
   ]
  },
  {
   "cell_type": "markdown",
   "metadata": {},
   "source": [
    "# Part 4"
   ]
  },
  {
   "cell_type": "markdown",
   "metadata": {},
   "source": [
    "## KMeans "
   ]
  },
  {
   "cell_type": "markdown",
   "metadata": {},
   "source": [
    "Τώρα τα δεδομένα μας είναι στην σωστή μορφή για να συσταδοποιηθούν. Εκτιμούμε πως ο βέλτιστος αριθμός των συστάδων θα είναι ανάμεσα στο 2 και στο 5, όπως δηλαδή κατανέμονται και οι τιμές της target. Για να αποφασίσουμε ποιο k είναι το ιδανικό, θα πραγματοποιήσουμε ένα for loop για το k, δοκιμάζοντας τις τιμές από k=2 μέχρι k=10. Για να αξιολογήσουμε την αποτελεσματικότητα του αλγορίθμου για τα διαφορετικά k, θα υπολογίσουμε για το καθένα το silhouette score του. To silhouette score παίρνει τιμές από το 1 έως το -1, και όσο πιο κοντά βρίσκεται στο 1, τόσο πιο καλά έχουν κατανεμηθεί οι συστάδες μας. "
   ]
  },
  {
   "cell_type": "code",
   "execution_count": 10,
   "metadata": {
    "ExecuteTime": {
     "end_time": "2021-01-31T09:53:06.300964Z",
     "start_time": "2021-01-31T09:53:05.450483Z"
    }
   },
   "outputs": [
    {
     "name": "stdout",
     "output_type": "stream",
     "text": [
      "0.3103211089162096\n",
      "0.20651671318364356\n",
      "0.16190528129533263\n",
      "0.15554291280802582\n",
      "0.13262673344029324\n",
      "0.1364538611640362\n",
      "0.13315053892412532\n",
      "0.11656729823308871\n",
      "0.13991648127293294\n"
     ]
    }
   ],
   "source": [
    "sil_score =[]\n",
    "for k in range(2,11):\n",
    "    cluster = KMeans(n_clusters=k).fit(heart_disease)\n",
    "    print(silhouette_score(heart_disease, cluster.labels_ ))\n",
    "    sil_score.append(silhouette_score(heart_disease, cluster.labels_ ))"
   ]
  },
  {
   "cell_type": "code",
   "execution_count": 11,
   "metadata": {
    "ExecuteTime": {
     "end_time": "2021-01-31T09:53:06.588299Z",
     "start_time": "2021-01-31T09:53:06.303963Z"
    }
   },
   "outputs": [
    {
     "data": {
      "image/png": "[encoded data removed]",
      "text/plain": [
       "<Figure size 432x288 with 1 Axes>"
      ]
     },
     "metadata": {},
     "output_type": "display_data"
    }
   ],
   "source": [
    "sns.lineplot(x = range(2,11),y = sil_score);\n",
    "plt.ylabel('Silhouette Score');\n",
    "plt.xlabel('Number of Clusters (k)');"
   ]
  },
  {
   "cell_type": "markdown",
   "metadata": {
    "ExecuteTime": {
     "end_time": "2021-01-20T08:55:25.001755Z",
     "start_time": "2021-01-20T08:55:24.985766Z"
    }
   },
   "source": [
    "Βλέπουμε πως για k=2, ο αλγόριθμος KMeans μας δίνει το υψηλότερο silhouette_score. Επομένως, θα χρησιμοποιήσουμε αυτόν για να χωρίσουμε τα δεδομένα μας σε clusters. "
   ]
  },
  {
   "cell_type": "code",
   "execution_count": 12,
   "metadata": {
    "ExecuteTime": {
     "end_time": "2021-01-31T09:53:06.650145Z",
     "start_time": "2021-01-31T09:53:06.591297Z"
    }
   },
   "outputs": [
    {
     "name": "stdout",
     "output_type": "stream",
     "text": [
      "0.3103211089162096\n"
     ]
    }
   ],
   "source": [
    "cluster = KMeans(n_clusters=2).fit(heart_disease)\n",
    "print(silhouette_score(heart_disease, cluster.labels_ ))"
   ]
  },
  {
   "cell_type": "code",
   "execution_count": 13,
   "metadata": {
    "ExecuteTime": {
     "end_time": "2021-01-31T09:53:06.668136Z",
     "start_time": "2021-01-31T09:53:06.653145Z"
    }
   },
   "outputs": [
    {
     "name": "stdout",
     "output_type": "stream",
     "text": [
      "[[-1.18564685e-01  5.17857143e-01  2.93452381e+00 -1.25303835e-01\n",
      "  -5.80777705e-03  1.25000000e-01  9.64285714e-01  2.56207693e-01\n",
      "   1.90476190e-01 -3.09920633e-01  1.43452381e+00 -2.32558159e-01\n",
      "   3.00000000e+00]\n",
      " [ 1.47547163e-01  8.81481481e-01  3.43703704e+00  1.55933661e-01\n",
      "   7.22745588e-03  1.77777778e-01  1.02222222e+00 -3.18836240e-01\n",
      "   4.96296296e-01  3.85679010e-01  1.80740741e+00  2.89405708e-01\n",
      "   6.86666667e+00]]\n",
      "[1 0 1 0 0 0 0 0 1 1 1 0 1 1 1 0 1 0 0 0 0 0 0 1 1 0 0 0 0 1 0 1 0 1 0 0 1\n",
      " 1 1 0 1 1 0 0 0 1 0 1 0 0 0 1 0 0 1 1 1 1 0 0 1 0 1 0 1 1 0 1 1 0 0 1 1 1\n",
      " 0 0 1 0 0 1 0 0 0 1 0 0 0 0 0 0 0 1 1 0 0 1 1 1 0 0 0 0 0 0 1 1 1 1 1 1 1\n",
      " 0 1 1 1 1 0 0 1 1 1 1 0 1 0 0 1 1 0 0 1 1 0 0 0 0 1 1 1 0 0 1 0 1 1 0 1 0\n",
      " 0 0 1 0 1 1 0 0 1 1 1 1 1 0 0 0 0 1 0 0 1 0 1 1 0 0 1 1 1 1 0 0 1 1 0 1 0\n",
      " 0 1 1 1 1 0 1 1 0 0 0 0 0 0 0 0 0 1 1 1 1 1 1 0 0 0 1 0 1 0 1 0 0 0 0 0 0\n",
      " 0 1 0 0 0 0 0 0 0 0 0 0 0 0 1 1 0 0 0 0 0 0 0 0 1 0 1 0 1 1 1 0 0 0 0 0 0\n",
      " 1 0 0 0 0 0 1 0 1 1 0 1 1 1 0 0 1 0 0 0 0 1 0 1 0 1 1 1 1 1 0 1 0 1 1 0 0\n",
      " 1 1 1 1 1 0 0]\n"
     ]
    }
   ],
   "source": [
    "print(cluster.cluster_centers_)\n",
    "print(cluster.labels_)\n",
    "#Βλέπουμε πως τα δεδομένα μας αντιστοιχίζονται είτε στον cluster με label 0, είτε στον cluster με label 2. "
   ]
  },
  {
   "cell_type": "code",
   "execution_count": 14,
   "metadata": {
    "ExecuteTime": {
     "end_time": "2021-01-31T09:53:06.698117Z",
     "start_time": "2021-01-31T09:53:06.672133Z"
    }
   },
   "outputs": [
    {
     "name": "stdout",
     "output_type": "stream",
     "text": [
      "Number of iterations: 3\n",
      "Estimated number of clusters: 2\n",
      "Estimated number of noise points: 0\n",
      "Silhouette Coefficient: 0.310\n",
      "Mean Squared Error: 2557.302\n"
     ]
    }
   ],
   "source": [
    "n_clusters_ = len(set(cluster.labels_)) - (1 if -1 in cluster.labels_ else 0)\n",
    "n_noise_ = list(cluster.labels_).count(-1)\n",
    "\n",
    "print('Number of iterations: %d' % cluster.n_iter_)\n",
    "print('Estimated number of clusters: %d' % n_clusters_)\n",
    "print('Estimated number of noise points: %d' % n_noise_)\n",
    "print(\"Silhouette Coefficient: %0.3f\" % metrics.silhouette_score(heart_disease, cluster.labels_ ))\n",
    "print(\"Mean Squared Error: %0.3f\" % cluster.inertia_)#returns the SSE value"
   ]
  },
  {
   "cell_type": "markdown",
   "metadata": {},
   "source": [
    "Θέλουμε να δούμε πως διαφοροποιούνται τα γνωρίσματα του dataset, ανάλογα το cluster στο οποίο έχουν τοποθετηθεί. Για να το κάνουμε αυτό, θα δημιουργήσουμε 2 διαφορετικά dataframes, ένα που περιέχει τα στοιχεία του cluster με ετικέτα 0, και ένα που περιέχει τα στοιχεία του cluster με ετικέτα 1. "
   ]
  },
  {
   "cell_type": "code",
   "execution_count": 15,
   "metadata": {
    "ExecuteTime": {
     "end_time": "2021-01-31T09:53:06.714107Z",
     "start_time": "2021-01-31T09:53:06.701116Z"
    }
   },
   "outputs": [],
   "source": [
    "cluster_0 = heart_disease[cluster.labels_==0]\n",
    "cluster_1 = heart_disease[cluster.labels_==1]"
   ]
  },
  {
   "cell_type": "markdown",
   "metadata": {},
   "source": [
    "Αν πάρουμε τη μέση τιμή κάθε γνωρίσματος για το κάθε dataframe, μπορούμε να δούμε ποια στοιχεία κάθε στήλης έχουν ανατεθεί σε κάθε cluster."
   ]
  },
  {
   "cell_type": "code",
   "execution_count": 16,
   "metadata": {
    "ExecuteTime": {
     "end_time": "2021-01-31T09:53:07.297516Z",
     "start_time": "2021-01-31T09:53:06.719105Z"
    },
    "cell_style": "center"
   },
   "outputs": [
    {
     "data": {
      "image/png": "[encoded data removed]",
      "text/plain": [
       "<Figure size 1800x576 with 2 Axes>"
      ]
     },
     "metadata": {},
     "output_type": "display_data"
    }
   ],
   "source": [
    "fig, axes = plt.subplots(1, 2, figsize=(25, 8))\n",
    "\n",
    "sns.barplot(ax=axes[0], x=cluster_0.mean().index, y=cluster_0.mean())\n",
    "sns.barplot(ax=axes[1], x=cluster_1.mean().index, y=cluster_1.mean())\n",
    "\n",
    "axes[0].set_title('Cluster 0')\n",
    "axes[1].set_title('Cluster 1')\n",
    "\n",
    "axes[0].set_xticklabels(heart_disease.columns, rotation = 45, ha=\"right\");\n",
    "axes[1].set_xticklabels(heart_disease.columns, rotation = 45, ha=\"right\");"
   ]
  },
  {
   "cell_type": "code",
   "execution_count": 17,
   "metadata": {
    "ExecuteTime": {
     "end_time": "2021-01-31T09:53:07.313115Z",
     "start_time": "2021-01-31T09:53:07.301121Z"
    }
   },
   "outputs": [
    {
     "data": {
      "text/plain": [
       "(303, 13)"
      ]
     },
     "execution_count": 17,
     "metadata": {},
     "output_type": "execute_result"
    }
   ],
   "source": [
    "heart_disease.shape"
   ]
  },
  {
   "cell_type": "markdown",
   "metadata": {},
   "source": [
    "Μπορούμε να δούμε πως, οι μεταβλητές που παίζουν τον κυριότερο ρόλο στην διαμόρφωση των συστάδων είναι η age, thalach, oldpeak και ca. Ας προσπαθήσουμε τώρα να κάνουμε visualize τα clusters που έφτιαξε ο αλγόριθμός μας, για να δούμε εάν τα όρια του διαχωρισμου των cluster είναι ξεκάθαρα. Το αρχικό σχήμα του dataset μας είναι 303x18, δηλαδή έχει 18 διαστάσεις. Όπως καταλαβαίνουμε, οι 18 διαστάσεις είναι αδύνατο να οπτικοποιηθούν. Έτσι, για να μπορέσουμε να κατανοήσουμε τον τρόπο που δημιουργούνται οι συστάδες, θα πρέπει να μειώσουμε τις διαστάσεις του dataset από 18 σε 2, χρησιμοποιώντας PCA."
   ]
  },
  {
   "cell_type": "code",
   "execution_count": 18,
   "metadata": {
    "ExecuteTime": {
     "end_time": "2021-01-31T09:53:07.345121Z",
     "start_time": "2021-01-31T09:53:07.317112Z"
    }
   },
   "outputs": [],
   "source": [
    "pca = PCA(n_components=2)\n",
    "pca.fit(heart_disease)\n",
    "decomp = pca.transform(heart_disease)"
   ]
  },
  {
   "cell_type": "code",
   "execution_count": 19,
   "metadata": {
    "ExecuteTime": {
     "end_time": "2021-01-31T09:53:07.361108Z",
     "start_time": "2021-01-31T09:53:07.348120Z"
    }
   },
   "outputs": [
    {
     "data": {
      "text/plain": [
       "array([0.3550068 , 0.14496351])"
      ]
     },
     "execution_count": 19,
     "metadata": {},
     "output_type": "execute_result"
    }
   ],
   "source": [
    "pca.explained_variance_ratio_"
   ]
  },
  {
   "cell_type": "code",
   "execution_count": 20,
   "metadata": {
    "ExecuteTime": {
     "end_time": "2021-01-31T09:53:07.377100Z",
     "start_time": "2021-01-31T09:53:07.365108Z"
    }
   },
   "outputs": [
    {
     "data": {
      "text/plain": [
       "(303, 2)"
      ]
     },
     "execution_count": 20,
     "metadata": {},
     "output_type": "execute_result"
    }
   ],
   "source": [
    "decomp.shape"
   ]
  },
  {
   "cell_type": "code",
   "execution_count": 21,
   "metadata": {
    "ExecuteTime": {
     "end_time": "2021-01-31T09:53:07.393090Z",
     "start_time": "2021-01-31T09:53:07.380097Z"
    }
   },
   "outputs": [
    {
     "data": {
      "text/plain": [
       "array([[-1.79155301,  0.33883983],\n",
       "       [ 2.22948819, -0.42166734]])"
      ]
     },
     "execution_count": 21,
     "metadata": {},
     "output_type": "execute_result"
    }
   ],
   "source": [
    "pca.transform(cluster.cluster_centers_)"
   ]
  },
  {
   "cell_type": "code",
   "execution_count": 22,
   "metadata": {
    "ExecuteTime": {
     "end_time": "2021-01-31T09:53:07.709450Z",
     "start_time": "2021-01-31T09:53:07.396087Z"
    }
   },
   "outputs": [
    {
     "data": {
      "text/plain": [
       "<AxesSubplot:>"
      ]
     },
     "execution_count": 22,
     "metadata": {},
     "output_type": "execute_result"
    },
    {
     "data": {
      "image/png": "[encoded data removed]",
      "text/plain": [
       "<Figure size 1080x576 with 1 Axes>"
      ]
     },
     "metadata": {},
     "output_type": "display_data"
    }
   ],
   "source": [
    "fig, ax = plt.subplots(figsize=(15, 8))\n",
    "sns.scatterplot(x= decomp[:,0], y=decomp[:,1], data = decomp, hue =cluster.labels_)"
   ]
  },
  {
   "cell_type": "markdown",
   "metadata": {},
   "source": [
    "Βλέπουμε πως με το decomposition των δεδομένων μας, είναι πολύ πιο εύκολο να διακρίνουμε πώς χωρίστηκαν σε συσταδες. "
   ]
  },
  {
   "cell_type": "markdown",
   "metadata": {},
   "source": [
    "## DBSCAN "
   ]
  },
  {
   "cell_type": "code",
   "execution_count": 23,
   "metadata": {
    "ExecuteTime": {
     "end_time": "2021-01-31T09:53:07.725440Z",
     "start_time": "2021-01-31T09:53:07.716445Z"
    }
   },
   "outputs": [
    {
     "data": {
      "text/plain": [
       "(303, 13)"
      ]
     },
     "execution_count": 23,
     "metadata": {},
     "output_type": "execute_result"
    }
   ],
   "source": [
    "heart_disease.shape"
   ]
  },
  {
   "cell_type": "code",
   "execution_count": 24,
   "metadata": {
    "ExecuteTime": {
     "end_time": "2021-01-31T09:53:07.897044Z",
     "start_time": "2021-01-31T09:53:07.731436Z"
    }
   },
   "outputs": [
    {
     "name": "stdout",
     "output_type": "stream",
     "text": [
      "0.2896035847127383\n"
     ]
    }
   ],
   "source": [
    "db = DBSCAN(eps=3,min_samples=5, algorithm='kd_tree', n_jobs=8)\n",
    "db.fit(heart_disease)\n",
    "print(silhouette_score(heart_disease, db.labels_ ))"
   ]
  },
  {
   "cell_type": "code",
   "execution_count": 25,
   "metadata": {
    "ExecuteTime": {
     "end_time": "2021-01-31T09:53:07.929027Z",
     "start_time": "2021-01-31T09:53:07.903041Z"
    }
   },
   "outputs": [
    {
     "data": {
      "text/plain": [
       "array([ 0,  1,  0,  1,  1,  1,  1,  1,  0,  0,  0,  1,  0,  0,  0,  1,  0,\n",
       "        1,  1,  1,  1,  1,  1,  0,  0,  1,  1, -1,  1,  0,  1,  0,  1,  0,\n",
       "        1,  1,  0,  0,  0,  1,  0,  0,  1,  1,  1,  0,  1,  0,  1,  1,  1,\n",
       "        0,  1,  1,  0,  0,  0,  0,  1,  1,  0,  1,  0,  1,  0,  0,  1,  0,\n",
       "        0,  1,  1,  0,  0,  0,  1,  1,  0,  1,  1,  0,  1,  1,  1,  0,  1,\n",
       "        1,  1,  1,  1,  1,  1, -1,  0,  1,  1,  0,  0,  0,  1,  1,  1,  1,\n",
       "        1,  1,  0,  0,  0,  0,  0,  0,  0,  1,  0,  0,  0,  0,  1,  1,  0,\n",
       "        0,  0,  0,  1, -1,  1,  1,  0,  0,  1,  1,  0,  0,  1,  1,  1,  1,\n",
       "        0,  0,  0,  1,  1,  0,  1,  0,  0,  1,  0,  1,  1,  1,  0,  1, -1,\n",
       "        0,  1,  1,  0,  0,  0,  0,  0,  1,  1,  1,  1,  0,  1,  1,  0,  1,\n",
       "        0,  0,  1,  1,  0,  0,  0,  0,  1,  1,  0,  0,  1, -1,  1,  1,  0,\n",
       "       -1,  0,  0,  1,  0,  0,  1,  1,  1,  1,  1,  1,  1,  1,  1,  0,  0,\n",
       "        0,  0,  0,  0,  1,  1,  1, -1,  1, -1,  1,  0,  1,  1,  1,  1,  1,\n",
       "        1,  1,  0,  1,  1,  1,  1,  1,  1,  1, -1, -1,  1,  1,  1,  0,  0,\n",
       "        1,  1,  1,  1,  1,  1,  1,  1,  0,  1,  0,  1,  0,  0,  0,  1,  1,\n",
       "        1,  1,  1,  1,  0,  1,  1,  1,  1,  1,  0,  1,  0,  0,  1,  0,  0,\n",
       "        0,  1,  1,  0,  1,  1,  1,  1,  0,  1,  0,  1,  0,  0,  0,  0,  0,\n",
       "        1,  0,  1,  0,  0,  1,  1,  0,  0,  0,  0,  0,  1,  1],\n",
       "      dtype=int64)"
      ]
     },
     "execution_count": 25,
     "metadata": {},
     "output_type": "execute_result"
    }
   ],
   "source": [
    "db.labels_"
   ]
  },
  {
   "cell_type": "code",
   "execution_count": 26,
   "metadata": {
    "ExecuteTime": {
     "end_time": "2021-01-31T09:53:07.960409Z",
     "start_time": "2021-01-31T09:53:07.932425Z"
    }
   },
   "outputs": [
    {
     "name": "stdout",
     "output_type": "stream",
     "text": [
      "Estimated number of clusters: 2\n",
      "Estimated number of noise points: 10\n",
      "Silhouette Coefficient: 0.290\n"
     ]
    }
   ],
   "source": [
    "# Number of clusters in labels, ignoring noise if present.\n",
    "n_clusters_ = len(set(db.labels_)) - (1 if -1 in db.labels_ else 0)\n",
    "n_noise_ = list(db.labels_).count(-1)\n",
    "\n",
    "print('Estimated number of clusters: %d' % n_clusters_)\n",
    "print('Estimated number of noise points: %d' % n_noise_)\n",
    "print(\"Silhouette Coefficient: %0.3f\"\n",
    "      % metrics.silhouette_score(heart_disease, db.labels_))"
   ]
  },
  {
   "cell_type": "markdown",
   "metadata": {},
   "source": [
    "Όπως και πριν, θέλουμε να δούμε πως διαφοροποιούνται τα γνωρίσματα του dataset, ανάλογα το cluster στο οποίο έχουν τοποθετηθεί. Αυτή τη φορά δημιουργούμε 3 διαφορετικά dataframes, ένα που περιέχει τα στοιχεία του cluster με ετικέτα 0, και ένα που περιέχει τα στοιχεία του cluster με ετικέτα 1, και ένα που περιέχει τα στοιχεία με ετικέτα -1, δηλαδή τον θόρυβο. Αν πάρουμε τη μέση τιμή κάθε γνωρίσματος για το κάθε dataframe, μπορούμε να δούμε ποια στοιχεία κάθε στήλης έχουν ανατεθεί σε κάθε cluster."
   ]
  },
  {
   "cell_type": "code",
   "execution_count": 27,
   "metadata": {
    "ExecuteTime": {
     "end_time": "2021-01-31T09:53:07.975563Z",
     "start_time": "2021-01-31T09:53:07.965405Z"
    }
   },
   "outputs": [],
   "source": [
    "cluster_0 = heart_disease[db.labels_==0]\n",
    "cluster_1 = heart_disease[db.labels_==1]\n",
    "noise = heart_disease[db.labels_==-1]"
   ]
  },
  {
   "cell_type": "code",
   "execution_count": 28,
   "metadata": {
    "ExecuteTime": {
     "end_time": "2021-01-31T09:53:08.006040Z",
     "start_time": "2021-01-31T09:53:07.977560Z"
    }
   },
   "outputs": [
    {
     "data": {
      "text/plain": [
       "age         0.127974\n",
       "sex         0.898438\n",
       "cp          3.476562\n",
       "trestbps    0.107027\n",
       "chol       -0.021569\n",
       "fbs         0.179688\n",
       "restecg     1.031250\n",
       "thalach    -0.329687\n",
       "exang       0.492188\n",
       "oldpeak     0.304846\n",
       "slope       1.773438\n",
       "ca          0.277122\n",
       "thal        6.867188\n",
       "dtype: float64"
      ]
     },
     "execution_count": 28,
     "metadata": {},
     "output_type": "execute_result"
    }
   ],
   "source": [
    "cluster_0.mean()"
   ]
  },
  {
   "cell_type": "code",
   "execution_count": 29,
   "metadata": {
    "ExecuteTime": {
     "end_time": "2021-01-31T09:53:08.529710Z",
     "start_time": "2021-01-31T09:53:08.009036Z"
    }
   },
   "outputs": [
    {
     "data": {
      "image/png": "[encoded data removed]",
      "text/plain": [
       "<Figure size 1440x576 with 2 Axes>"
      ]
     },
     "metadata": {},
     "output_type": "display_data"
    }
   ],
   "source": [
    "fig, axes = plt.subplots(1,2 , figsize=(20, 8))\n",
    "\n",
    "sns.barplot(ax=axes[0], x=cluster_0.mean().index, y=cluster_0.mean())\n",
    "sns.barplot(ax=axes[1], x=cluster_1.mean().index, y=cluster_1.mean())\n",
    "\n",
    "axes[0].set_title('Cluster 0')\n",
    "axes[1].set_title('Cluster 1')\n",
    "\n",
    "axes[0].set_xticklabels(heart_disease.columns, rotation = 45, ha=\"right\");\n",
    "axes[1].set_xticklabels(heart_disease.columns, rotation = 45, ha=\"right\");"
   ]
  },
  {
   "cell_type": "code",
   "execution_count": 30,
   "metadata": {
    "ExecuteTime": {
     "end_time": "2021-01-31T09:53:08.886490Z",
     "start_time": "2021-01-31T09:53:08.556696Z"
    }
   },
   "outputs": [
    {
     "data": {
      "image/png": "[encoded data removed]",
      "text/plain": [
       "<Figure size 720x576 with 1 Axes>"
      ]
     },
     "metadata": {},
     "output_type": "display_data"
    }
   ],
   "source": [
    "fig, ax = plt.subplots(figsize=(10, 8))\n",
    "sns.barplot(x=noise.mean().index, y=noise.mean())\n",
    "ax.set_title('Noise')\n",
    "ax.set_xticklabels(heart_disease.columns, rotation = 45, ha=\"right\");"
   ]
  },
  {
   "cell_type": "markdown",
   "metadata": {},
   "source": [
    "Οι συστάδες που προκύπτουν είναι 2, και έχουν ετικέτες 0,1. Δέκα παρατηρήσεις δεν ανατέθηκαν σε καμία συστάδα. Αυτά τα σημεία-παρατηρήσεις θεωρούνται θόρυβος, και έχουν ετικέτα -1. Θα κάνουμε πάλι PCA, για να μπορέσουμε να δούμε πώς σχηματίζονται τα δεδομένα μας σε clusters."
   ]
  },
  {
   "cell_type": "code",
   "execution_count": 31,
   "metadata": {
    "ExecuteTime": {
     "end_time": "2021-01-31T09:53:08.917487Z",
     "start_time": "2021-01-31T09:53:08.891486Z"
    }
   },
   "outputs": [],
   "source": [
    "pca = PCA(n_components=2)\n",
    "pca.fit(heart_disease)\n",
    "decomp = pca.transform(heart_disease)"
   ]
  },
  {
   "cell_type": "code",
   "execution_count": 32,
   "metadata": {
    "ExecuteTime": {
     "end_time": "2021-01-31T09:53:08.949466Z",
     "start_time": "2021-01-31T09:53:08.920486Z"
    }
   },
   "outputs": [
    {
     "data": {
      "text/plain": [
       "array([[ 1.28504021,  0.24105116],\n",
       "       [ 0.24171835,  4.05521585],\n",
       "       [ 3.25175996,  1.02756553],\n",
       "       [-1.67757807, -0.73178637],\n",
       "       [-2.34217104, -0.63295418],\n",
       "       [-2.35483465, -0.70256809],\n",
       "       [-0.28405968,  2.88903518],\n",
       "       [-1.7778576 ,  0.62488546],\n",
       "       [ 2.52467226,  0.19993914],\n",
       "       [ 2.68921363, -0.44027124],\n",
       "       [ 1.0323981 , -1.1404079 ],\n",
       "       [-1.69279032,  1.23004999],\n",
       "       [ 1.35433344,  0.07557528],\n",
       "       [ 0.81879269, -2.96588648],\n",
       "       [ 1.61429834, -1.68542909],\n",
       "       [-1.82278754, -0.23119574],\n",
       "       [ 1.3069981 , -2.60737452],\n",
       "       [-1.65178217,  0.11132548],\n",
       "       [-2.04335181, -0.11260403],\n",
       "       [-2.36158223, -0.70513899],\n",
       "       [-1.61615235,  0.76325745],\n",
       "       [-2.04599405,  1.02940462],\n",
       "       [-1.67255642,  0.88236473],\n",
       "       [ 2.4832398 , -0.0825106 ],\n",
       "       [ 3.11007687,  0.57340211],\n",
       "       [-1.8724419 , -0.34896236],\n",
       "       [-2.25843289,  0.17038828],\n",
       "       [-1.02463748,  1.70025136],\n",
       "       [-1.80596292, -0.38736235],\n",
       "       [ 2.30274054, -1.62596547],\n",
       "       [-1.37194066,  1.6174888 ],\n",
       "       [ 2.35232591, -0.78768704],\n",
       "       [-1.83760064,  0.87302136],\n",
       "       [ 1.82775914, -1.43282128],\n",
       "       [-2.315146  , -1.15462223],\n",
       "       [-2.28537167, -1.13367614],\n",
       "       [ 2.46600615, -1.22553573],\n",
       "       [ 1.95642154,  1.07874156],\n",
       "       [ 2.57043122, -0.04456873],\n",
       "       [-1.2440366 ,  0.99485557],\n",
       "       [ 3.24369878,  1.64284843],\n",
       "       [ 0.99454601, -3.12294073],\n",
       "       [-1.40604212,  2.09068705],\n",
       "       [-1.5795786 ,  0.40213851],\n",
       "       [-1.84736069,  1.23020239],\n",
       "       [ 2.20472782, -0.64543174],\n",
       "       [-1.86975188, -0.63686777],\n",
       "       [ 2.65307316, -0.12175806],\n",
       "       [-1.32197271,  2.70789495],\n",
       "       [-1.49260622,  0.494794  ],\n",
       "       [-2.64523201, -1.55537723],\n",
       "       [ 1.85466151, -1.50040627],\n",
       "       [-1.8110053 ,  0.25846035],\n",
       "       [-2.66427446, -0.99758193],\n",
       "       [ 2.37141647, -0.61756899],\n",
       "       [ 2.98692082,  0.42006988],\n",
       "       [ 1.75154439, -1.63991128],\n",
       "       [ 1.25121755, -2.72264439],\n",
       "       [-1.40173668,  1.10783234],\n",
       "       [-1.54378499,  0.71989826],\n",
       "       [ 2.07422477, -0.97805379],\n",
       "       [-1.57857953,  0.22110363],\n",
       "       [ 3.25483375,  0.82310534],\n",
       "       [-2.22568324,  0.02076478],\n",
       "       [ 2.49918086, -0.99294591],\n",
       "       [ 3.24171941,  1.19668807],\n",
       "       [-1.11029747,  1.17147353],\n",
       "       [ 1.83658346, -0.9285573 ],\n",
       "       [ 3.24575584,  1.32220891],\n",
       "       [-1.14147224,  0.43346617],\n",
       "       [-1.58597167,  1.17822135],\n",
       "       [ 2.27172971, -0.36838443],\n",
       "       [ 3.2137177 ,  0.59827359],\n",
       "       [ 1.38113918,  0.31726556],\n",
       "       [-2.12219262, -0.65432685],\n",
       "       [-1.41579621,  2.37443389],\n",
       "       [ 2.90148279,  0.40223501],\n",
       "       [-1.34382868,  1.61920091],\n",
       "       [-2.33870002, -0.36420128],\n",
       "       [ 2.55119002,  0.27478014],\n",
       "       [-1.20849349,  0.1975652 ],\n",
       "       [-1.56269619,  0.94880483],\n",
       "       [-2.37698566, -0.30352638],\n",
       "       [ 2.64447536,  0.93712412],\n",
       "       [-2.4256846 , -0.44253299],\n",
       "       [-2.33887781, -0.50584588],\n",
       "       [-2.0539701 ,  0.09319106],\n",
       "       [-1.72250793,  0.70210973],\n",
       "       [-1.90986314,  0.46861627],\n",
       "       [-1.93690178,  0.49053262],\n",
       "       [-1.38937161,  1.52731324],\n",
       "       [ 4.14662675,  2.04144574],\n",
       "       [ 2.73495476,  0.07049145],\n",
       "       [-2.47457094, -1.77256851],\n",
       "       [-2.04793079,  0.78296528],\n",
       "       [ 1.76778813, -1.61146021],\n",
       "       [ 2.43076175, -0.34654345],\n",
       "       [ 2.89804656,  0.93967585],\n",
       "       [-1.9526995 , -0.27750479],\n",
       "       [-2.27122   , -0.58711739],\n",
       "       [-2.32381077, -0.62255664],\n",
       "       [-2.96354296, -1.89184347],\n",
       "       [-1.63100681,  1.31828766],\n",
       "       [-1.42106474,  1.89105968],\n",
       "       [ 2.54728275, -0.91689083],\n",
       "       [ 1.10623398, -2.08805783],\n",
       "       [ 1.88547613, -1.51370672],\n",
       "       [ 1.97806007, -0.69622369],\n",
       "       [ 2.96588724, -0.04915614],\n",
       "       [ 1.74939726, -2.44990887],\n",
       "       [ 2.34769861,  0.34440018],\n",
       "       [-0.99609969,  1.43330642],\n",
       "       [-0.10241484, -2.23239461],\n",
       "       [ 2.54662234, -0.06361784],\n",
       "       [ 2.60117408,  0.19435075],\n",
       "       [ 0.4689528 , -2.16634713],\n",
       "       [-1.97115969,  0.36348022],\n",
       "       [-2.25333189, -1.46451377],\n",
       "       [ 3.22542865,  1.62631469],\n",
       "       [ 3.08027088,  0.96090302],\n",
       "       [ 2.15685126, -0.63168356],\n",
       "       [ 3.59649781,  2.68214125],\n",
       "       [-1.74487871, -0.51678044],\n",
       "       [ 3.57445757,  0.24114346],\n",
       "       [-1.62479613,  1.50917916],\n",
       "       [-2.33469862, -0.33999104],\n",
       "       [ 3.91387769,  2.46438576],\n",
       "       [ 2.74390189, -0.68810943],\n",
       "       [-2.65263125, -1.51928655],\n",
       "       [-1.99975412, -0.06111573],\n",
       "       [ 1.71787244, -1.13271126],\n",
       "       [ 1.42154817, -2.3884031 ],\n",
       "       [-3.05153365, -2.11170451],\n",
       "       [-1.9954122 ,  0.12739101],\n",
       "       [-2.345109  , -1.13429529],\n",
       "       [-1.82603375,  0.74845471],\n",
       "       [ 3.03536359,  0.06735763],\n",
       "       [ 2.54119424,  0.49652863],\n",
       "       [ 1.95817269, -2.49861828],\n",
       "       [-1.5209338 ,  0.54400123],\n",
       "       [-2.14142651, -0.24999641],\n",
       "       [ 1.60102132, -0.38789274],\n",
       "       [-2.60885663, -1.21001403],\n",
       "       [ 2.38834826, -0.26556355],\n",
       "       [ 1.74899954, -1.25955932],\n",
       "       [-2.30699254, -1.01801579],\n",
       "       [ 3.24158241,  1.59311128],\n",
       "       [-2.6365862 , -1.62332371],\n",
       "       [-2.42173372, -0.19769251],\n",
       "       [-2.01730582,  0.40307218],\n",
       "       [ 1.32952653, -1.64368016],\n",
       "       [-1.65727221,  0.25063797],\n",
       "       [ 2.17267123,  1.4891046 ],\n",
       "       [ 2.58282313,  0.36647962],\n",
       "       [-0.11186155,  2.7390857 ],\n",
       "       [ 0.22810629,  4.10757216],\n",
       "       [ 1.86580963, -1.41326405],\n",
       "       [ 2.00737079, -0.25613241],\n",
       "       [ 2.51216028,  0.41532359],\n",
       "       [ 2.02174357, -0.57399298],\n",
       "       [ 0.87109385, -3.27224893],\n",
       "       [-0.75920532,  3.0067138 ],\n",
       "       [-1.87088704, -0.31003277],\n",
       "       [-1.33879538,  1.09055453],\n",
       "       [-1.96698839, -0.21898929],\n",
       "       [ 1.55473693, -2.01405336],\n",
       "       [-2.22882579, -0.6358141 ],\n",
       "       [-1.91264855,  0.9282793 ],\n",
       "       [ 1.44099246, -2.09087685],\n",
       "       [-2.36817865, -1.28890988],\n",
       "       [ 3.29736339,  1.22392372],\n",
       "       [ 2.22083221, -0.55305097],\n",
       "       [-1.3141806 ,  1.20021173],\n",
       "       [-1.23063064,  2.34130966],\n",
       "       [ 2.22053915,  1.34774126],\n",
       "       [ 3.09098366,  0.51861317],\n",
       "       [ 2.14173777, -1.12675874],\n",
       "       [ 2.15753178,  0.61900617],\n",
       "       [-1.6650356 ,  0.14434199],\n",
       "       [-1.5190562 ,  1.10985567],\n",
       "       [ 1.67103595, -1.41963939],\n",
       "       [ 2.85880608,  1.35563189],\n",
       "       [-2.05173863,  0.21064581],\n",
       "       [ 2.75051861,  0.77235753],\n",
       "       [-1.63832551,  1.56754199],\n",
       "       [-1.97971047,  0.38935192],\n",
       "       [ 1.17454053, -2.96585895],\n",
       "       [ 1.90238027,  1.14603987],\n",
       "       [ 1.52463985, -0.5117821 ],\n",
       "       [ 3.07028941,  1.41403004],\n",
       "       [-2.27517841, -0.96025373],\n",
       "       [ 3.68320314,  1.02517187],\n",
       "       [ 1.86433569, -1.42859782],\n",
       "       [-0.11520766,  3.06128465],\n",
       "       [-1.08893231,  1.80263228],\n",
       "       [-0.61144554,  2.48928373],\n",
       "       [-1.32638122,  2.10834184],\n",
       "       [-1.70056131,  0.33829258],\n",
       "       [-2.30008787, -0.60065192],\n",
       "       [-1.77384858,  1.35450642],\n",
       "       [-2.09934968,  0.00535147],\n",
       "       [-1.37317582,  1.75929644],\n",
       "       [ 1.55604523, -2.03171058],\n",
       "       [ 1.82761701, -0.42396704],\n",
       "       [ 1.1774657 , -3.04831759],\n",
       "       [ 2.56887162,  0.17899746],\n",
       "       [ 3.25204269,  0.89893404],\n",
       "       [ 2.33552105, -0.75557538],\n",
       "       [-2.24148503, -0.30045739],\n",
       "       [-1.21812277,  1.1117729 ],\n",
       "       [-2.66545082, -1.70228108],\n",
       "       [ 1.46494343, -2.79552783],\n",
       "       [-1.7938651 , -0.25509877],\n",
       "       [ 2.72133984,  0.5197172 ],\n",
       "       [-1.89811275, -0.37422861],\n",
       "       [ 1.52474605, -1.56315327],\n",
       "       [-2.81416553, -1.65909663],\n",
       "       [-1.72235535,  0.39276178],\n",
       "       [-0.48708229,  2.51407107],\n",
       "       [-1.92634916,  0.61193181],\n",
       "       [-2.43188331, -0.65117534],\n",
       "       [-2.29256496,  0.02876503],\n",
       "       [-2.88566362, -2.20926101],\n",
       "       [ 3.17939892,  0.33192159],\n",
       "       [-1.06273808,  1.26799234],\n",
       "       [-2.96972285, -2.21976221],\n",
       "       [-2.02525399, -0.90750441],\n",
       "       [-1.75545033,  1.14813362],\n",
       "       [-1.07009021,  1.05987349],\n",
       "       [-1.19515715,  1.37302523],\n",
       "       [-2.08575701,  0.02650563],\n",
       "       [-0.25412685,  2.92192846],\n",
       "       [-1.11084873,  0.92819358],\n",
       "       [-1.27936812,  2.28436762],\n",
       "       [-1.88387848,  0.22748896],\n",
       "       [-0.11935346,  2.63998077],\n",
       "       [ 2.91864754,  0.45104968],\n",
       "       [ 1.75281889, -1.47489635],\n",
       "       [-2.32748805, -0.40951206],\n",
       "       [-2.55345258, -1.07657414],\n",
       "       [-2.58416957, -1.51380982],\n",
       "       [-2.61009135, -0.88777815],\n",
       "       [-2.13000367, -0.33558399],\n",
       "       [-1.11320474,  1.30885446],\n",
       "       [-1.59021847,  0.40943702],\n",
       "       [-0.61980159,  1.81380033],\n",
       "       [ 1.66015856, -1.7837829 ],\n",
       "       [-1.01582087,  1.15093797],\n",
       "       [ 1.98683427, -1.47941958],\n",
       "       [-1.91472679,  0.59826358],\n",
       "       [ 1.40423834, -0.96620037],\n",
       "       [ 2.9445388 ,  0.04170002],\n",
       "       [ 2.67453526,  0.02646226],\n",
       "       [-2.02424217,  0.47718138],\n",
       "       [-2.0115595 , -0.69063958],\n",
       "       [-2.49629091, -1.39737434],\n",
       "       [-1.31848585,  1.09898782],\n",
       "       [-1.00018349,  2.05894761],\n",
       "       [-1.63833421,  1.62015753],\n",
       "       [ 1.42431935, -1.68791388],\n",
       "       [-1.94063088, -0.36508914],\n",
       "       [-1.61355534,  1.80915593],\n",
       "       [-2.27275613,  0.08897925],\n",
       "       [-2.46135609, -1.33704367],\n",
       "       [-0.21466182,  2.16403607],\n",
       "       [ 1.47261742, -0.64945629],\n",
       "       [-1.55333489, -0.20197239],\n",
       "       [ 1.57396417, -0.26200697],\n",
       "       [ 1.19191369, -2.77850913],\n",
       "       [-2.28297616, -1.30169733],\n",
       "       [ 2.68358501,  0.13344285],\n",
       "       [ 1.80709647,  0.93658374],\n",
       "       [ 2.90282499, -0.01431365],\n",
       "       [-1.13534973,  0.87095023],\n",
       "       [-1.83965582,  0.29986928],\n",
       "       [ 1.76211772, -0.33056441],\n",
       "       [-1.38521733,  2.01458395],\n",
       "       [-2.22652843, -0.93095016],\n",
       "       [-1.85713536,  0.86111835],\n",
       "       [-1.47577396,  0.41506454],\n",
       "       [ 2.73865078, -0.15001369],\n",
       "       [-2.43185712, -0.99751121],\n",
       "       [ 2.60984827, -0.36823772],\n",
       "       [-2.84408263, -2.20797643],\n",
       "       [ 1.89965576, -1.15574676],\n",
       "       [ 2.73825844,  1.71390455],\n",
       "       [ 2.35075   ,  1.6197129 ],\n",
       "       [ 1.53158002, -1.77456987],\n",
       "       [ 1.2420232 , -1.6317929 ],\n",
       "       [-2.19141144, -0.51263412],\n",
       "       [ 2.13914487, -0.15089809],\n",
       "       [-2.09625131,  0.40352966],\n",
       "       [ 1.45800288, -1.59285303],\n",
       "       [ 3.30773355,  0.84651794],\n",
       "       [-1.51456535,  0.44660432],\n",
       "       [-2.86226562, -2.22385646],\n",
       "       [ 2.43467991,  1.54919785],\n",
       "       [ 2.15385568, -0.81669602],\n",
       "       [ 1.37640097, -2.26232254],\n",
       "       [ 3.2553631 ,  0.59960961],\n",
       "       [ 2.59680644, -1.03709793],\n",
       "       [-2.04489475,  0.58434488],\n",
       "       [-2.52663282, -1.75007183]])"
      ]
     },
     "execution_count": 32,
     "metadata": {},
     "output_type": "execute_result"
    }
   ],
   "source": [
    "decomp"
   ]
  },
  {
   "cell_type": "code",
   "execution_count": 33,
   "metadata": {
    "ExecuteTime": {
     "end_time": "2021-01-31T09:53:08.981448Z",
     "start_time": "2021-01-31T09:53:08.951465Z"
    }
   },
   "outputs": [
    {
     "data": {
      "text/plain": [
       "array([[-4.98741645,  1.11183226],\n",
       "       [-3.07310675,  2.5526861 ],\n",
       "       [-4.98741645,  1.11183226],\n",
       "       [-3.07310675,  2.5526861 ],\n",
       "       [-3.07310675,  2.5526861 ],\n",
       "       [-3.07310675,  2.5526861 ],\n",
       "       [-3.07310675,  2.5526861 ],\n",
       "       [-3.07310675,  2.5526861 ],\n",
       "       [-4.98741645,  1.11183226],\n",
       "       [-4.98741645,  1.11183226],\n",
       "       [-4.98741645,  1.11183226],\n",
       "       [-3.07310675,  2.5526861 ],\n",
       "       [-4.98741645,  1.11183226],\n",
       "       [-4.98741645,  1.11183226],\n",
       "       [-4.98741645,  1.11183226],\n",
       "       [-3.07310675,  2.5526861 ],\n",
       "       [-4.98741645,  1.11183226],\n",
       "       [-3.07310675,  2.5526861 ],\n",
       "       [-3.07310675,  2.5526861 ],\n",
       "       [-3.07310675,  2.5526861 ],\n",
       "       [-3.07310675,  2.5526861 ],\n",
       "       [-3.07310675,  2.5526861 ],\n",
       "       [-3.07310675,  2.5526861 ],\n",
       "       [-4.98741645,  1.11183226],\n",
       "       [-4.98741645,  1.11183226],\n",
       "       [-3.07310675,  2.5526861 ],\n",
       "       [-3.07310675,  2.5526861 ],\n",
       "       [-6.90172615, -0.32902158],\n",
       "       [-3.07310675,  2.5526861 ],\n",
       "       [-4.98741645,  1.11183226],\n",
       "       [-3.07310675,  2.5526861 ],\n",
       "       [-4.98741645,  1.11183226],\n",
       "       [-3.07310675,  2.5526861 ],\n",
       "       [-4.98741645,  1.11183226],\n",
       "       [-3.07310675,  2.5526861 ],\n",
       "       [-3.07310675,  2.5526861 ],\n",
       "       [-4.98741645,  1.11183226],\n",
       "       [-4.98741645,  1.11183226],\n",
       "       [-4.98741645,  1.11183226],\n",
       "       [-3.07310675,  2.5526861 ],\n",
       "       [-4.98741645,  1.11183226],\n",
       "       [-4.98741645,  1.11183226],\n",
       "       [-3.07310675,  2.5526861 ],\n",
       "       [-3.07310675,  2.5526861 ],\n",
       "       [-3.07310675,  2.5526861 ],\n",
       "       [-4.98741645,  1.11183226],\n",
       "       [-3.07310675,  2.5526861 ],\n",
       "       [-4.98741645,  1.11183226],\n",
       "       [-3.07310675,  2.5526861 ],\n",
       "       [-3.07310675,  2.5526861 ],\n",
       "       [-3.07310675,  2.5526861 ],\n",
       "       [-4.98741645,  1.11183226],\n",
       "       [-3.07310675,  2.5526861 ],\n",
       "       [-3.07310675,  2.5526861 ],\n",
       "       [-4.98741645,  1.11183226],\n",
       "       [-4.98741645,  1.11183226],\n",
       "       [-4.98741645,  1.11183226],\n",
       "       [-4.98741645,  1.11183226],\n",
       "       [-3.07310675,  2.5526861 ],\n",
       "       [-3.07310675,  2.5526861 ],\n",
       "       [-4.98741645,  1.11183226],\n",
       "       [-3.07310675,  2.5526861 ],\n",
       "       [-4.98741645,  1.11183226],\n",
       "       [-3.07310675,  2.5526861 ],\n",
       "       [-4.98741645,  1.11183226],\n",
       "       [-4.98741645,  1.11183226],\n",
       "       [-3.07310675,  2.5526861 ],\n",
       "       [-4.98741645,  1.11183226],\n",
       "       [-4.98741645,  1.11183226],\n",
       "       [-3.07310675,  2.5526861 ],\n",
       "       [-3.07310675,  2.5526861 ],\n",
       "       [-4.98741645,  1.11183226],\n",
       "       [-4.98741645,  1.11183226],\n",
       "       [-4.98741645,  1.11183226],\n",
       "       [-3.07310675,  2.5526861 ],\n",
       "       [-3.07310675,  2.5526861 ],\n",
       "       [-4.98741645,  1.11183226],\n",
       "       [-3.07310675,  2.5526861 ],\n",
       "       [-3.07310675,  2.5526861 ],\n",
       "       [-4.98741645,  1.11183226],\n",
       "       [-3.07310675,  2.5526861 ],\n",
       "       [-3.07310675,  2.5526861 ],\n",
       "       [-3.07310675,  2.5526861 ],\n",
       "       [-4.98741645,  1.11183226],\n",
       "       [-3.07310675,  2.5526861 ],\n",
       "       [-3.07310675,  2.5526861 ],\n",
       "       [-3.07310675,  2.5526861 ],\n",
       "       [-3.07310675,  2.5526861 ],\n",
       "       [-3.07310675,  2.5526861 ],\n",
       "       [-3.07310675,  2.5526861 ],\n",
       "       [-3.07310675,  2.5526861 ],\n",
       "       [-6.90172615, -0.32902158],\n",
       "       [-4.98741645,  1.11183226],\n",
       "       [-3.07310675,  2.5526861 ],\n",
       "       [-3.07310675,  2.5526861 ],\n",
       "       [-4.98741645,  1.11183226],\n",
       "       [-4.98741645,  1.11183226],\n",
       "       [-4.98741645,  1.11183226],\n",
       "       [-3.07310675,  2.5526861 ],\n",
       "       [-3.07310675,  2.5526861 ],\n",
       "       [-3.07310675,  2.5526861 ],\n",
       "       [-3.07310675,  2.5526861 ],\n",
       "       [-3.07310675,  2.5526861 ],\n",
       "       [-3.07310675,  2.5526861 ],\n",
       "       [-4.98741645,  1.11183226],\n",
       "       [-4.98741645,  1.11183226],\n",
       "       [-4.98741645,  1.11183226],\n",
       "       [-4.98741645,  1.11183226],\n",
       "       [-4.98741645,  1.11183226],\n",
       "       [-4.98741645,  1.11183226],\n",
       "       [-4.98741645,  1.11183226],\n",
       "       [-3.07310675,  2.5526861 ],\n",
       "       [-4.98741645,  1.11183226],\n",
       "       [-4.98741645,  1.11183226],\n",
       "       [-4.98741645,  1.11183226],\n",
       "       [-4.98741645,  1.11183226],\n",
       "       [-3.07310675,  2.5526861 ],\n",
       "       [-3.07310675,  2.5526861 ],\n",
       "       [-4.98741645,  1.11183226],\n",
       "       [-4.98741645,  1.11183226],\n",
       "       [-4.98741645,  1.11183226],\n",
       "       [-4.98741645,  1.11183226],\n",
       "       [-3.07310675,  2.5526861 ],\n",
       "       [-6.90172615, -0.32902158],\n",
       "       [-3.07310675,  2.5526861 ],\n",
       "       [-3.07310675,  2.5526861 ],\n",
       "       [-4.98741645,  1.11183226],\n",
       "       [-4.98741645,  1.11183226],\n",
       "       [-3.07310675,  2.5526861 ],\n",
       "       [-3.07310675,  2.5526861 ],\n",
       "       [-4.98741645,  1.11183226],\n",
       "       [-4.98741645,  1.11183226],\n",
       "       [-3.07310675,  2.5526861 ],\n",
       "       [-3.07310675,  2.5526861 ],\n",
       "       [-3.07310675,  2.5526861 ],\n",
       "       [-3.07310675,  2.5526861 ],\n",
       "       [-4.98741645,  1.11183226],\n",
       "       [-4.98741645,  1.11183226],\n",
       "       [-4.98741645,  1.11183226],\n",
       "       [-3.07310675,  2.5526861 ],\n",
       "       [-3.07310675,  2.5526861 ],\n",
       "       [-4.98741645,  1.11183226],\n",
       "       [-3.07310675,  2.5526861 ],\n",
       "       [-4.98741645,  1.11183226],\n",
       "       [-4.98741645,  1.11183226],\n",
       "       [-3.07310675,  2.5526861 ],\n",
       "       [-4.98741645,  1.11183226],\n",
       "       [-3.07310675,  2.5526861 ],\n",
       "       [-3.07310675,  2.5526861 ],\n",
       "       [-3.07310675,  2.5526861 ],\n",
       "       [-4.98741645,  1.11183226],\n",
       "       [-3.07310675,  2.5526861 ],\n",
       "       [-6.90172615, -0.32902158],\n",
       "       [-4.98741645,  1.11183226],\n",
       "       [-3.07310675,  2.5526861 ],\n",
       "       [-3.07310675,  2.5526861 ],\n",
       "       [-4.98741645,  1.11183226],\n",
       "       [-4.98741645,  1.11183226],\n",
       "       [-4.98741645,  1.11183226],\n",
       "       [-4.98741645,  1.11183226],\n",
       "       [-4.98741645,  1.11183226],\n",
       "       [-3.07310675,  2.5526861 ],\n",
       "       [-3.07310675,  2.5526861 ],\n",
       "       [-3.07310675,  2.5526861 ],\n",
       "       [-3.07310675,  2.5526861 ],\n",
       "       [-4.98741645,  1.11183226],\n",
       "       [-3.07310675,  2.5526861 ],\n",
       "       [-3.07310675,  2.5526861 ],\n",
       "       [-4.98741645,  1.11183226],\n",
       "       [-3.07310675,  2.5526861 ],\n",
       "       [-4.98741645,  1.11183226],\n",
       "       [-4.98741645,  1.11183226],\n",
       "       [-3.07310675,  2.5526861 ],\n",
       "       [-3.07310675,  2.5526861 ],\n",
       "       [-4.98741645,  1.11183226],\n",
       "       [-4.98741645,  1.11183226],\n",
       "       [-4.98741645,  1.11183226],\n",
       "       [-4.98741645,  1.11183226],\n",
       "       [-3.07310675,  2.5526861 ],\n",
       "       [-3.07310675,  2.5526861 ],\n",
       "       [-4.98741645,  1.11183226],\n",
       "       [-4.98741645,  1.11183226],\n",
       "       [-3.07310675,  2.5526861 ],\n",
       "       [-6.90172615, -0.32902158],\n",
       "       [-3.07310675,  2.5526861 ],\n",
       "       [-3.07310675,  2.5526861 ],\n",
       "       [-4.98741645,  1.11183226],\n",
       "       [-6.90172615, -0.32902158],\n",
       "       [-4.98741645,  1.11183226],\n",
       "       [-4.98741645,  1.11183226],\n",
       "       [-3.07310675,  2.5526861 ],\n",
       "       [-4.98741645,  1.11183226],\n",
       "       [-4.98741645,  1.11183226],\n",
       "       [-3.07310675,  2.5526861 ],\n",
       "       [-3.07310675,  2.5526861 ],\n",
       "       [-3.07310675,  2.5526861 ],\n",
       "       [-3.07310675,  2.5526861 ],\n",
       "       [-3.07310675,  2.5526861 ],\n",
       "       [-3.07310675,  2.5526861 ],\n",
       "       [-3.07310675,  2.5526861 ],\n",
       "       [-3.07310675,  2.5526861 ],\n",
       "       [-3.07310675,  2.5526861 ],\n",
       "       [-4.98741645,  1.11183226],\n",
       "       [-4.98741645,  1.11183226],\n",
       "       [-4.98741645,  1.11183226],\n",
       "       [-4.98741645,  1.11183226],\n",
       "       [-4.98741645,  1.11183226],\n",
       "       [-4.98741645,  1.11183226],\n",
       "       [-3.07310675,  2.5526861 ],\n",
       "       [-3.07310675,  2.5526861 ],\n",
       "       [-3.07310675,  2.5526861 ],\n",
       "       [-6.90172615, -0.32902158],\n",
       "       [-3.07310675,  2.5526861 ],\n",
       "       [-6.90172615, -0.32902158],\n",
       "       [-3.07310675,  2.5526861 ],\n",
       "       [-4.98741645,  1.11183226],\n",
       "       [-3.07310675,  2.5526861 ],\n",
       "       [-3.07310675,  2.5526861 ],\n",
       "       [-3.07310675,  2.5526861 ],\n",
       "       [-3.07310675,  2.5526861 ],\n",
       "       [-3.07310675,  2.5526861 ],\n",
       "       [-3.07310675,  2.5526861 ],\n",
       "       [-3.07310675,  2.5526861 ],\n",
       "       [-4.98741645,  1.11183226],\n",
       "       [-3.07310675,  2.5526861 ],\n",
       "       [-3.07310675,  2.5526861 ],\n",
       "       [-3.07310675,  2.5526861 ],\n",
       "       [-3.07310675,  2.5526861 ],\n",
       "       [-3.07310675,  2.5526861 ],\n",
       "       [-3.07310675,  2.5526861 ],\n",
       "       [-3.07310675,  2.5526861 ],\n",
       "       [-6.90172615, -0.32902158],\n",
       "       [-6.90172615, -0.32902158],\n",
       "       [-3.07310675,  2.5526861 ],\n",
       "       [-3.07310675,  2.5526861 ],\n",
       "       [-3.07310675,  2.5526861 ],\n",
       "       [-4.98741645,  1.11183226],\n",
       "       [-4.98741645,  1.11183226],\n",
       "       [-3.07310675,  2.5526861 ],\n",
       "       [-3.07310675,  2.5526861 ],\n",
       "       [-3.07310675,  2.5526861 ],\n",
       "       [-3.07310675,  2.5526861 ],\n",
       "       [-3.07310675,  2.5526861 ],\n",
       "       [-3.07310675,  2.5526861 ],\n",
       "       [-3.07310675,  2.5526861 ],\n",
       "       [-3.07310675,  2.5526861 ],\n",
       "       [-4.98741645,  1.11183226],\n",
       "       [-3.07310675,  2.5526861 ],\n",
       "       [-4.98741645,  1.11183226],\n",
       "       [-3.07310675,  2.5526861 ],\n",
       "       [-4.98741645,  1.11183226],\n",
       "       [-4.98741645,  1.11183226],\n",
       "       [-4.98741645,  1.11183226],\n",
       "       [-3.07310675,  2.5526861 ],\n",
       "       [-3.07310675,  2.5526861 ],\n",
       "       [-3.07310675,  2.5526861 ],\n",
       "       [-3.07310675,  2.5526861 ],\n",
       "       [-3.07310675,  2.5526861 ],\n",
       "       [-3.07310675,  2.5526861 ],\n",
       "       [-4.98741645,  1.11183226],\n",
       "       [-3.07310675,  2.5526861 ],\n",
       "       [-3.07310675,  2.5526861 ],\n",
       "       [-3.07310675,  2.5526861 ],\n",
       "       [-3.07310675,  2.5526861 ],\n",
       "       [-3.07310675,  2.5526861 ],\n",
       "       [-4.98741645,  1.11183226],\n",
       "       [-3.07310675,  2.5526861 ],\n",
       "       [-4.98741645,  1.11183226],\n",
       "       [-4.98741645,  1.11183226],\n",
       "       [-3.07310675,  2.5526861 ],\n",
       "       [-4.98741645,  1.11183226],\n",
       "       [-4.98741645,  1.11183226],\n",
       "       [-4.98741645,  1.11183226],\n",
       "       [-3.07310675,  2.5526861 ],\n",
       "       [-3.07310675,  2.5526861 ],\n",
       "       [-4.98741645,  1.11183226],\n",
       "       [-3.07310675,  2.5526861 ],\n",
       "       [-3.07310675,  2.5526861 ],\n",
       "       [-3.07310675,  2.5526861 ],\n",
       "       [-3.07310675,  2.5526861 ],\n",
       "       [-4.98741645,  1.11183226],\n",
       "       [-3.07310675,  2.5526861 ],\n",
       "       [-4.98741645,  1.11183226],\n",
       "       [-3.07310675,  2.5526861 ],\n",
       "       [-4.98741645,  1.11183226],\n",
       "       [-4.98741645,  1.11183226],\n",
       "       [-4.98741645,  1.11183226],\n",
       "       [-4.98741645,  1.11183226],\n",
       "       [-4.98741645,  1.11183226],\n",
       "       [-3.07310675,  2.5526861 ],\n",
       "       [-4.98741645,  1.11183226],\n",
       "       [-3.07310675,  2.5526861 ],\n",
       "       [-4.98741645,  1.11183226],\n",
       "       [-4.98741645,  1.11183226],\n",
       "       [-3.07310675,  2.5526861 ],\n",
       "       [-3.07310675,  2.5526861 ],\n",
       "       [-4.98741645,  1.11183226],\n",
       "       [-4.98741645,  1.11183226],\n",
       "       [-4.98741645,  1.11183226],\n",
       "       [-4.98741645,  1.11183226],\n",
       "       [-4.98741645,  1.11183226],\n",
       "       [-3.07310675,  2.5526861 ],\n",
       "       [-3.07310675,  2.5526861 ]])"
      ]
     },
     "execution_count": 33,
     "metadata": {},
     "output_type": "execute_result"
    }
   ],
   "source": [
    "pca.transform(db.labels_.reshape(-1,1))"
   ]
  },
  {
   "cell_type": "code",
   "execution_count": 34,
   "metadata": {
    "ExecuteTime": {
     "end_time": "2021-01-31T09:53:09.359025Z",
     "start_time": "2021-01-31T09:53:08.984445Z"
    }
   },
   "outputs": [
    {
     "data": {
      "text/plain": [
       "<AxesSubplot:>"
      ]
     },
     "execution_count": 34,
     "metadata": {},
     "output_type": "execute_result"
    },
    {
     "data": {
      "image/png": "[encoded data removed]",
      "text/plain": [
       "<Figure size 1080x576 with 1 Axes>"
      ]
     },
     "metadata": {},
     "output_type": "display_data"
    }
   ],
   "source": [
    "fig, ax = plt.subplots(figsize=(15, 8))\n",
    "sns.scatterplot(x= decomp[:,0], y=decomp[:,1], data = decomp, hue =db.labels_, palette=\"deep\")"
   ]
  },
  {
   "cell_type": "markdown",
   "metadata": {},
   "source": [
    "## Evaluation "
   ]
  },
  {
   "cell_type": "code",
   "execution_count": 35,
   "metadata": {
    "ExecuteTime": {
     "end_time": "2021-01-31T09:53:09.375016Z",
     "start_time": "2021-01-31T09:53:09.362024Z"
    }
   },
   "outputs": [
    {
     "data": {
      "text/plain": [
       "0      0\n",
       "1      1\n",
       "2      1\n",
       "3      0\n",
       "4      0\n",
       "      ..\n",
       "298    1\n",
       "299    1\n",
       "300    1\n",
       "301    1\n",
       "302    0\n",
       "Name: target, Length: 303, dtype: int64"
      ]
     },
     "execution_count": 35,
     "metadata": {},
     "output_type": "execute_result"
    }
   ],
   "source": [
    "target"
   ]
  },
  {
   "cell_type": "code",
   "execution_count": 36,
   "metadata": {
    "ExecuteTime": {
     "end_time": "2021-01-31T09:53:09.391005Z",
     "start_time": "2021-01-31T09:53:09.379014Z"
    }
   },
   "outputs": [],
   "source": [
    "kmeans = pd.Series(cluster.labels_[:,], name='kmeans').astype(int)\n",
    "dbscan = pd.Series(db.labels_[:,], name='dbscan').astype(int)"
   ]
  },
  {
   "cell_type": "code",
   "execution_count": 37,
   "metadata": {
    "ExecuteTime": {
     "end_time": "2021-01-31T09:53:09.438237Z",
     "start_time": "2021-01-31T09:53:09.394004Z"
    }
   },
   "outputs": [
    {
     "data": {
      "text/html": [
       "<div>\n",
       "<style scoped>\n",
       "    .dataframe tbody tr th:only-of-type {\n",
       "        vertical-align: middle;\n",
       "    }\n",
       "\n",
       "    .dataframe tbody tr th {\n",
       "        vertical-align: top;\n",
       "    }\n",
       "\n",
       "    .dataframe thead th {\n",
       "        text-align: right;\n",
       "    }\n",
       "</style>\n",
       "<table border=\"1\" class=\"dataframe\">\n",
       "  <thead>\n",
       "    <tr style=\"text-align: right;\">\n",
       "      <th>col_0</th>\n",
       "      <th>0</th>\n",
       "      <th>1</th>\n",
       "    </tr>\n",
       "    <tr>\n",
       "      <th>target</th>\n",
       "      <th></th>\n",
       "      <th></th>\n",
       "    </tr>\n",
       "  </thead>\n",
       "  <tbody>\n",
       "    <tr>\n",
       "      <th>0</th>\n",
       "      <td>130</td>\n",
       "      <td>34</td>\n",
       "    </tr>\n",
       "    <tr>\n",
       "      <th>1</th>\n",
       "      <td>38</td>\n",
       "      <td>101</td>\n",
       "    </tr>\n",
       "  </tbody>\n",
       "</table>\n",
       "</div>"
      ],
      "text/plain": [
       "col_0     0    1\n",
       "target          \n",
       "0       130   34\n",
       "1        38  101"
      ]
     },
     "execution_count": 37,
     "metadata": {},
     "output_type": "execute_result"
    }
   ],
   "source": [
    "pd.crosstab(target, cluster.labels_)"
   ]
  },
  {
   "cell_type": "code",
   "execution_count": 38,
   "metadata": {
    "ExecuteTime": {
     "end_time": "2021-01-31T09:53:09.454225Z",
     "start_time": "2021-01-31T09:53:09.442232Z"
    }
   },
   "outputs": [],
   "source": [
    "labels = ['no heart disease', 'heart disease']\n",
    "labels_db = ['noise', 'no heart disease', 'heart disease']"
   ]
  },
  {
   "cell_type": "code",
   "execution_count": 39,
   "metadata": {
    "ExecuteTime": {
     "end_time": "2021-01-31T09:53:09.733521Z",
     "start_time": "2021-01-31T09:53:09.457221Z"
    }
   },
   "outputs": [
    {
     "data": {
      "text/plain": [
       "<AxesSubplot:xlabel='kmeans', ylabel='target'>"
      ]
     },
     "execution_count": 39,
     "metadata": {},
     "output_type": "execute_result"
    },
    {
     "data": {
      "image/png": "[encoded data removed]",
      "text/plain": [
       "<Figure size 432x288 with 2 Axes>"
      ]
     },
     "metadata": {},
     "output_type": "display_data"
    }
   ],
   "source": [
    "sns.heatmap(pd.crosstab(target, kmeans), \n",
    "            cmap=\"YlGnBu\", annot=True, fmt='g',\n",
    "           xticklabels=labels, yticklabels=labels)"
   ]
  },
  {
   "cell_type": "code",
   "execution_count": 40,
   "metadata": {
    "ExecuteTime": {
     "end_time": "2021-01-31T09:53:09.763736Z",
     "start_time": "2021-01-31T09:53:09.743516Z"
    }
   },
   "outputs": [],
   "source": [
    "dbscan = dbscan.map(lambda x: 0 if x == 1 else (1 if x == 0 else -1))"
   ]
  },
  {
   "cell_type": "code",
   "execution_count": 41,
   "metadata": {
    "ExecuteTime": {
     "end_time": "2021-01-31T09:53:09.810705Z",
     "start_time": "2021-01-31T09:53:09.768733Z"
    }
   },
   "outputs": [
    {
     "data": {
      "text/html": [
       "<div>\n",
       "<style scoped>\n",
       "    .dataframe tbody tr th:only-of-type {\n",
       "        vertical-align: middle;\n",
       "    }\n",
       "\n",
       "    .dataframe tbody tr th {\n",
       "        vertical-align: top;\n",
       "    }\n",
       "\n",
       "    .dataframe thead th {\n",
       "        text-align: right;\n",
       "    }\n",
       "</style>\n",
       "<table border=\"1\" class=\"dataframe\">\n",
       "  <thead>\n",
       "    <tr style=\"text-align: right;\">\n",
       "      <th>dbscan</th>\n",
       "      <th>-1</th>\n",
       "      <th>0</th>\n",
       "      <th>1</th>\n",
       "    </tr>\n",
       "    <tr>\n",
       "      <th>target</th>\n",
       "      <th></th>\n",
       "      <th></th>\n",
       "      <th></th>\n",
       "    </tr>\n",
       "  </thead>\n",
       "  <tbody>\n",
       "    <tr>\n",
       "      <th>0</th>\n",
       "      <td>3</td>\n",
       "      <td>129</td>\n",
       "      <td>32</td>\n",
       "    </tr>\n",
       "    <tr>\n",
       "      <th>1</th>\n",
       "      <td>7</td>\n",
       "      <td>36</td>\n",
       "      <td>96</td>\n",
       "    </tr>\n",
       "  </tbody>\n",
       "</table>\n",
       "</div>"
      ],
      "text/plain": [
       "dbscan  -1    0   1\n",
       "target             \n",
       "0        3  129  32\n",
       "1        7   36  96"
      ]
     },
     "execution_count": 41,
     "metadata": {},
     "output_type": "execute_result"
    }
   ],
   "source": [
    "pd.crosstab(target, dbscan)"
   ]
  },
  {
   "cell_type": "code",
   "execution_count": 42,
   "metadata": {
    "ExecuteTime": {
     "end_time": "2021-01-31T09:53:10.098468Z",
     "start_time": "2021-01-31T09:53:09.816703Z"
    }
   },
   "outputs": [
    {
     "data": {
      "text/plain": [
       "<AxesSubplot:xlabel='dbscan', ylabel='target'>"
      ]
     },
     "execution_count": 42,
     "metadata": {},
     "output_type": "execute_result"
    },
    {
     "data": {
      "image/png": "[encoded data removed]",
      "text/plain": [
       "<Figure size 432x288 with 2 Axes>"
      ]
     },
     "metadata": {},
     "output_type": "display_data"
    }
   ],
   "source": [
    "sns.heatmap(pd.crosstab(target, dbscan), cmap=\"YlGnBu\", annot=True, fmt='g',\n",
    "           xticklabels=labels_db, yticklabels=labels)"
   ]
  }
 ],
 "metadata": {
  "kernelspec": {
   "display_name": "Python 3",
   "language": "python",
   "name": "python3"
  },
  "language_info": {
   "codemirror_mode": {
    "name": "ipython",
    "version": 3
   },
   "file_extension": ".py",
   "mimetype": "text/x-python",
   "name": "python",
   "nbconvert_exporter": "python",
   "pygments_lexer": "ipython3",
   "version": "3.7.9"
  },
  "varInspector": {
   "cols": {
    "lenName": 16,
    "lenType": 16,
    "lenVar": 40
   },
   "kernels_config": {
    "python": {
     "delete_cmd_postfix": "",
     "delete_cmd_prefix": "del ",
     "library": "var_list.py",
     "varRefreshCmd": "print(var_dic_list())"
    },
    "r": {
     "delete_cmd_postfix": ") ",
     "delete_cmd_prefix": "rm(",
     "library": "var_list.r",
     "varRefreshCmd": "cat(var_dic_list()) "
    }
   },
   "types_to_exclude": [
    "module",
    "function",
    "builtin_function_or_method",
    "instance",
    "_Feature"
   ],
   "window_display": false
  }
 },
 "nbformat": 4,
 "nbformat_minor": 4
}
